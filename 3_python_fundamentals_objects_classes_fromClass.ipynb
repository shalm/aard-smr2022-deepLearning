{
  "cells": [
    {
      "cell_type": "markdown",
      "metadata": {
        "id": "KY-1fst_04Wh"
      },
      "source": [
        "## Fundamentals of Python - part 3 \n",
        "\n",
        "In the past two lectures we have covered the material about basic Python objects, operators, constructs (if-branching, for and while loops). Today we will move towards object oriented programming: how to define custom-defined objects and classes as wells as how to operate with them."
      ]
    },
    {
      "cell_type": "markdown",
      "metadata": {
        "id": "Gg63DTrR04Wp"
      },
      "source": [
        "## References\n",
        "Mark Lutz, 'Learning Python: Powerful Object-Oriented Programming', O'Reilly Media, Inc., 2013. (Chapter 4)\n",
        "\n",
        "Dane Hillard, 'Practices of the Python Pro', Manning Publications, 2020.\n",
        "\n",
        "MIT course 6.0001 (Lecture 8 and 9): https://ocw.mit.edu/courses/electrical-engineering-and-computer-science/6-0001-introduction-to-computer-science-and-programming-in-python-fall-2016/lecture-videos/"
      ]
    },
    {
      "cell_type": "markdown",
      "metadata": {
        "id": "D9Y27a4Y04Wp"
      },
      "source": [
        "### 1. EXAMPLE: simple coordinate class\n",
        "here we will define coordinate objects, e.g. (x,y): object initialization, string representation and distance calculation"
      ]
    },
    {
      "cell_type": "code",
      "execution_count": 6,
      "metadata": {
        "id": "icZwZm3o04Wq"
      },
      "outputs": [],
      "source": [
        "#define the coordinates class\n",
        "class coordinate3D(object):\n",
        "  def __init__(self, x, y, z):\n",
        "    self.x = x\n",
        "    self.y = y\n",
        "    self.z = z\n",
        "  def __str__(self):\n",
        "    return \"(\" + str(self.x) + ',' +str(self.y)+ ',' +str(self.z)+')'\n",
        "  def distance(self, other):\n",
        "    x_diff = self.x - other.x\n",
        "    y_diff = self.y - other.y\n",
        "    z_diff = self.z - other.z\n",
        "    return (x_diff**2+y_diff**2 + z_diff**2)**0.5\n",
        "  "
      ]
    },
    {
      "cell_type": "code",
      "execution_count": 11,
      "metadata": {
        "id": "YnWB1hVf04Ws",
        "outputId": "de8e4df1-2c6e-41d7-823e-d71cb017b11d",
        "colab": {
          "base_uri": "https://localhost:8080/"
        }
      },
      "outputs": [
        {
          "output_type": "stream",
          "name": "stdout",
          "text": [
            "(3,4,1)\n"
          ]
        },
        {
          "output_type": "execute_result",
          "data": {
            "text/plain": [
              "5.0990195135927845"
            ]
          },
          "metadata": {},
          "execution_count": 11
        }
      ],
      "source": [
        "#creating coordinate-class objects\n",
        "c = coordinate3D(3,4,1)\n",
        "print(c)\n",
        "origin = coordinate3D(0,0,0)\n",
        "c.distance(origin)"
      ]
    },
    {
      "cell_type": "markdown",
      "metadata": {
        "id": "bwIhRqXY04Wt"
      },
      "source": [
        "### 2. EXAMPLE: simple class to represent fractions\n",
        "In this example we will define a class of fractions including methods: addition, subtraction.\n",
        "As a homework exercise add methods of multiplication, division, and fraction reduction (hint: use gcd)"
      ]
    },
    {
      "cell_type": "code",
      "execution_count": 45,
      "metadata": {
        "id": "PkAleN5J04Wt"
      },
      "outputs": [],
      "source": [
        "#define the fractions class\n",
        "class fraction(object):\n",
        "    \"\"\"\n",
        "    A number represented as a fraction\n",
        "    \"\"\"\n",
        "    def __init__(self, num, denom):\n",
        "        \"\"\" num and denom are integers \"\"\"\n",
        "        assert type(num) == int and type(denom) == int, \"ints not used\"\n",
        "        self.num = num\n",
        "        self.denom = denom\n",
        "    def __str__(self):\n",
        "        \"\"\" Retunrs a string representation of self \"\"\"\n",
        "        return str(self.num) + \"/\" + str(self.denom)\n",
        "    def add(self, other):\n",
        "        \"\"\" Returns a new fraction representing the addition \"\"\"\n",
        "        top = self.num*other.denom + self.denom*other.num\n",
        "        bott = self.denom*other.denom\n",
        "        return fraction(top, bott)\n",
        "    def __float__(self):\n",
        "        return self.num/self.denom\n",
        "    def apples(self):\n",
        "        return 'apples'\n",
        "\n",
        "  "
      ]
    },
    {
      "cell_type": "code",
      "execution_count": 47,
      "metadata": {
        "id": "5vAucl5m04Wt",
        "outputId": "32fea06c-e6e2-49d3-83c3-888d37c50051",
        "colab": {
          "base_uri": "https://localhost:8080/"
        }
      },
      "outputs": [
        {
          "output_type": "execute_result",
          "data": {
            "text/plain": [
              "<__main__.fraction at 0x7f8024975e90>"
            ]
          },
          "metadata": {},
          "execution_count": 47
        }
      ],
      "source": [
        "#creating fraction-class objects\n",
        "a = fraction(1,4)\n",
        "b = fraction(5,4)\n",
        "# c = a+b\n",
        "# print(float(c))\n",
        "a.add(b)"
      ]
    },
    {
      "cell_type": "markdown",
      "metadata": {
        "id": "JrRUcB1M04Wu"
      },
      "source": [
        "### 3. EXAMPLE: Animal abstract data type"
      ]
    },
    {
      "cell_type": "code",
      "execution_count": 48,
      "metadata": {
        "id": "tjdsAq5e04Wu"
      },
      "outputs": [],
      "source": [
        "#define the Animal class\n",
        "#adding 'setters' and 'getters'\n",
        "class Animal(object):\n",
        "  def __init__(self,age):\n",
        "    self.age = age\n",
        "    self.name = None \n",
        "  def get_age(self):\n",
        "    return self.age\n",
        "  def get_name(self):\n",
        "    return self.name\n",
        "  def set_age(self, newage):\n",
        "    self.age = newage\n",
        "  def set_name(self, newname):\n",
        "    self.name = newname\n",
        "  def __str__(self):\n",
        "    return 'animal:' + str(self.name) + ',' + str(self.age)\n",
        "  \n",
        "\n"
      ]
    },
    {
      "cell_type": "code",
      "execution_count": 52,
      "metadata": {
        "id": "5-sdxZsv04Wv",
        "outputId": "620b1382-cbb0-4a06-9558-e7dc28b45753",
        "colab": {
          "base_uri": "https://localhost:8080/"
        }
      },
      "outputs": [
        {
          "output_type": "stream",
          "name": "stdout",
          "text": [
            "animal:snowball,5\n"
          ]
        }
      ],
      "source": [
        "#'Animal' tests\n",
        "a = Animal(4)\n",
        "\n",
        "a.set_name('snowball')\n",
        "a.set_age(5)\n",
        "print(a)"
      ]
    },
    {
      "cell_type": "markdown",
      "metadata": {
        "id": "7gOP6qUo04Wv"
      },
      "source": [
        "### 4. EXAMPLE: Class inheritance"
      ]
    },
    {
      "cell_type": "code",
      "execution_count": 53,
      "metadata": {
        "id": "T2JSVSyo04Wv"
      },
      "outputs": [],
      "source": [
        "#define a new class 'Cat' based on earlier introduced 'Animal'\n",
        "class Cat(Animal):\n",
        "  def speak(self):\n",
        "    print('meow')\n",
        "  def __str__(self):\n",
        "    return \"cat:\" + str(self.name) + ',' + str(self.age)"
      ]
    },
    {
      "cell_type": "code",
      "execution_count": 57,
      "metadata": {
        "id": "tOd9fJ_J04Wv",
        "outputId": "f5f8a410-0282-4380-847f-2b9055a34043",
        "colab": {
          "base_uri": "https://localhost:8080/"
        }
      },
      "outputs": [
        {
          "output_type": "stream",
          "name": "stdout",
          "text": [
            "cat:Fluffie,1\n",
            "meow\n"
          ]
        }
      ],
      "source": [
        "#'Cat' tests\n",
        "c = Cat(1)\n",
        "c.set_name('Fluffie')\n",
        "print(c)\n",
        "c.speak()"
      ]
    },
    {
      "cell_type": "code",
      "execution_count": 77,
      "metadata": {
        "id": "fxaAOemR04Wv"
      },
      "outputs": [],
      "source": [
        "#define a new subclass 'Person'\n",
        "class Person(Animal):\n",
        "    def __init__(self,name, age):\n",
        "      Animal.__init__(self, age)\n",
        "      self.set_name(name)\n",
        "      self.friends = []\n",
        "    def get_friends(self):\n",
        "      return self.friends\n",
        "    def speak(self):\n",
        "      print(\"salut!\")\n",
        "    def add_friend(self, fname):\n",
        "      if fname not in self.friends:\n",
        "        self.friends.append(fname)\n",
        "      print(self.friends)\n",
        "    def age_diff(self, other):\n",
        "      diff = self.age - other.age\n",
        "      print(abs(diff), 'year difference')\n",
        "    def __str__(self):\n",
        "      return 'person:' + str(self.name)+',' + str(self.age)\n",
        "    "
      ]
    },
    {
      "cell_type": "code",
      "execution_count": 80,
      "metadata": {
        "id": "LvVB1BJv04Wv",
        "outputId": "605a6edf-56f4-424d-fbe7-67d946effd8e",
        "colab": {
          "base_uri": "https://localhost:8080/"
        }
      },
      "outputs": [
        {
          "output_type": "stream",
          "name": "stdout",
          "text": [
            "person:Jack,30\n",
            "salut!\n",
            "23 year difference\n",
            "['Rory']\n",
            "['Rory']\n"
          ]
        }
      ],
      "source": [
        "#'Person' tests\n",
        "p1 = Person('Jack', 30)\n",
        "p2 = Person('Jill', 53)\n",
        "print(p1)\n",
        "p1.speak()\n",
        "p1.age_diff(p2)\n",
        "p1.add_friend('Rory')\n",
        "p1.add_friend('Rory')"
      ]
    },
    {
      "cell_type": "code",
      "execution_count": 89,
      "metadata": {
        "id": "HsTjW-ZK04Ww"
      },
      "outputs": [],
      "source": [
        "import random\n",
        "#define a new subsubclass 'Student'\n",
        "class Student(Person):\n",
        "  def __init__(self, name, age, major = None):\n",
        "    Person.__init__(self,name,age)\n",
        "    self.major = major\n",
        "  def __str__(self):\n",
        "    return 'studen:' + str(self.name)+',' + str(self.age)+',' + str(self.major)\n",
        "  def set_major(self,major):\n",
        "    self.major = major\n",
        "  def speak(self):\n",
        "    r = random.random()\n",
        "    if r<0.25:\n",
        "      print('Hello world, Alice!')\n",
        "    elif 0.25<=r<0.5:\n",
        "      print('Ham and SPAM!')\n",
        "    elif 0.5<=r<0.75:\n",
        "      print('Who is there?')\n",
        "    else:\n",
        "      print('The students are sleeping')\n"
      ]
    },
    {
      "cell_type": "code",
      "execution_count": 94,
      "metadata": {
        "id": "GYA3kX5S04Ww",
        "outputId": "6bcee7b2-222d-4e60-caf9-225262a93691",
        "colab": {
          "base_uri": "https://localhost:8080/"
        }
      },
      "outputs": [
        {
          "output_type": "stream",
          "name": "stdout",
          "text": [
            "studen:Alice,20,CS\n",
            "Alice says:\n",
            "The students are sleeping\n",
            "Bob says:\n",
            "Hello world, Alice!\n"
          ]
        }
      ],
      "source": [
        "#'Student' tests\n",
        "s1 = Student('Alice', 20, 'CS')\n",
        "print(s1)\n",
        "s2 = Student('Bob', 21, 'English')\n",
        "print(s1.get_name(),'says:')\n",
        "s1.speak()\n",
        "print(s2.get_name(),'says:')\n",
        "s2.speak()"
      ]
    },
    {
      "cell_type": "markdown",
      "metadata": {
        "id": "49FG5MGY04Ww"
      },
      "source": [
        "### 5. EXAMPLE: Use of class variables"
      ]
    },
    {
      "cell_type": "code",
      "execution_count": null,
      "metadata": {
        "id": "csW-SPD204Ww"
      },
      "outputs": [],
      "source": [
        "#define subclass 'Rabit'\n",
        "class Rabbit(Animal):\n",
        "  tag = 1\n",
        "  def __init__(self, age, parent1 = None, parent2 = None)\n",
        "    self.parent1\n",
        "    ...\n",
        "    self.rid = Rabbit.tag\n",
        "    Rabbit.tag+=1 \n",
        "  def get_rid:\n",
        "    return str(self.rid).zfill(3)\n",
        "  def get_parent1:\n",
        "  ...\n",
        "  def __add__(self,other):\n",
        "    return Rabbit(0,self,other)\n",
        "  def __eq__(self,other):\n",
        "    parents_same = self.parent1.rid == other.parent1.rid \\\n",
        "                  and self.parent2.rid == other.parent2.rid\n",
        "    parents_opposite = ....\n",
        "    return parents_same or parents_opposite"
      ]
    },
    {
      "cell_type": "code",
      "execution_count": null,
      "metadata": {
        "id": "4iEerKwC04Ww"
      },
      "outputs": [],
      "source": [
        "#Rabits tests: creation\n",
        "r1\n",
        "r2\n",
        "r3\n",
        "#get_parrent1"
      ]
    },
    {
      "cell_type": "code",
      "execution_count": null,
      "metadata": {
        "id": "AsgrwtkA04Wx"
      },
      "outputs": [],
      "source": [
        "#Rabits addition\n",
        "r4 = r1+r2\n",
        "get_parrent1"
      ]
    },
    {
      "cell_type": "code",
      "execution_count": null,
      "metadata": {
        "id": "_J-771o704Wx"
      },
      "outputs": [],
      "source": [
        "#Rabits equality\n",
        "r5 = r3+r4\n",
        "r6 = r4+r3\n",
        "r5==r6\n",
        "r4==r5"
      ]
    },
    {
      "cell_type": "code",
      "execution_count": null,
      "metadata": {
        "id": "oJnxwq7604Wx"
      },
      "outputs": [],
      "source": [
        ""
      ]
    }
  ],
  "metadata": {
    "kernelspec": {
      "display_name": "Python 3",
      "language": "python",
      "name": "python3"
    },
    "language_info": {
      "codemirror_mode": {
        "name": "ipython",
        "version": 3
      },
      "file_extension": ".py",
      "mimetype": "text/x-python",
      "name": "python",
      "nbconvert_exporter": "python",
      "pygments_lexer": "ipython3",
      "version": "3.7.4"
    },
    "colab": {
      "name": "3_python_fundamentals_objects_classes.ipynb",
      "provenance": []
    }
  },
  "nbformat": 4,
  "nbformat_minor": 0
}