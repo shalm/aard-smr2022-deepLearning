{
 "cells": [
  {
   "cell_type": "markdown",
   "metadata": {
    "id": "hQD-NVdZWCmQ"
   },
   "source": [
    "# Generative nets - part 1: Autoencoders and PCA"
   ]
  },
  {
   "cell_type": "markdown",
   "metadata": {
    "id": "ZFCP23YkWCmR"
   },
   "source": [
    "### References\n",
    "\n",
    "Deep Learning with Python and PyTorch, IBM edX course DL0110EN"
   ]
  },
  {
   "cell_type": "markdown",
   "metadata": {
    "id": "V6zv7daiWCmS"
   },
   "source": [
    "We'll need the following labs and functions: "
   ]
  },
  {
   "cell_type": "code",
   "execution_count": 1,
   "metadata": {
    "id": "SOQMpXRtWCmT"
   },
   "outputs": [],
   "source": [
    "# These are the libraries we are going to use in the lab.\n",
    "\n",
    "import numpy as np\n",
    "import pandas as pd\n",
    "import matplotlib.pyplot as plt\n",
    "from mpl_toolkits import mplot3d\n",
    "from mpl_toolkits.mplot3d import proj3d\n",
    "import seaborn as sns\n",
    "import torch\n",
    "import torch.nn as nn\n",
    "from matplotlib.patches import FancyArrowPatch"
   ]
  },
  {
   "cell_type": "markdown",
   "metadata": {
    "id": "PQ8wfkiBWCmU"
   },
   "source": [
    "Simple autoencoder module (class) "
   ]
  },
  {
   "cell_type": "code",
   "execution_count": 2,
   "metadata": {
    "id": "ctVj3mV3WCmW"
   },
   "outputs": [],
   "source": [
    "class AutoEncoder(nn.Module): \n",
    "  \n",
    "    def __init__(self, input_dim=2, encoding_dim=32):\n",
    "        super(AutoEncoder, self).__init__()\n",
    "        \n",
    "        self.encoder = nn.Linear(input_dim,encoding_dim)\n",
    "        self.decoder = nn.Linear(encoding_dim,input_dim)\n",
    "    \n",
    "  \n",
    "    def forward(self, x):\n",
    " \n",
    "        x=self.encoder(x)\n",
    "        x=self.decoder(x)\n",
    "      \n",
    "        return x"
   ]
  },
  {
   "cell_type": "markdown",
   "metadata": {
    "id": "J57QYutkWCmY"
   },
   "source": [
    "function to train an autoencoder:"
   ]
  },
  {
   "cell_type": "code",
   "execution_count": 3,
   "metadata": {
    "id": "8SQdJf2CWCma"
   },
   "outputs": [],
   "source": [
    "def train_model(model,X,optimizer,n_epochs=4):   \n",
    "    #global variable \n",
    "    cost_list_training =[]\n",
    "    cost_list_validation =[]\n",
    "    for epoch in range(n_epochs):\n",
    "        cost_training=0\n",
    "        for x in X:\n",
    "           \n",
    "            model.train()\n",
    "            optimizer.zero_grad()\n",
    "            xhat = model(x)\n",
    "            loss = criterion(xhat, x)\n",
    "            loss.backward()\n",
    "            optimizer.step()\n",
    "            cost_training+=loss.data\n",
    "        \n",
    "        cost_list_training.append(cost_training)\n",
    "     \n",
    "    return cost_list_training"
   ]
  },
  {
   "cell_type": "markdown",
   "metadata": {
    "id": "lGf66IQhWCmc"
   },
   "source": [
    "This function will plot the data in 2D-data."
   ]
  },
  {
   "cell_type": "code",
   "execution_count": 4,
   "metadata": {
    "id": "2OFsTVB2WCmd"
   },
   "outputs": [],
   "source": [
    "def plot_data(X,Xhat,vec=False,label_X=\"data\",label_Xhat=\"transformed data\",lable_vec=\"parameter vector\"):\n",
    "\n",
    "    if type(X) is torch.Tensor:\n",
    "        plt.scatter(X[:, 0].numpy(), X[:, 1].numpy(),label=label_X) \n",
    "    if type(Xhat) is torch.Tensor:   \n",
    "        plt.scatter(Xhat[:, 0].numpy(), Xhat[:, 1].numpy(),label=label_Xhat)\n",
    "    if type(vec) is torch.Tensor:\n",
    "        \n",
    "        plt.xlabel(\"q_{1}\")\n",
    "        plt.ylabel(\"q_{2}\")\n",
    "        plt.quiver([0],[0],vec[:,0],vec[:,1],label=lable_vec)\n",
    "    plt.legend()\n",
    "    plt.show()"
   ]
  },
  {
   "cell_type": "markdown",
   "metadata": {
    "id": "ONFPYBEoWCmd"
   },
   "source": [
    "This function will generate 3D data from a plane and add noise."
   ]
  },
  {
   "cell_type": "code",
   "execution_count": 5,
   "metadata": {
    "id": "7_PSDrE9WCmd"
   },
   "outputs": [],
   "source": [
    "def GenerateData(ProjectionMatrix=[[1,-1,0],[2,1,0],[0,0,0]],Noise_std=0.1,Nsamples=1000):\n",
    "    \n",
    "    import numpy as np\n",
    "    np.random.seed(0)\n",
    "\n",
    "    Max=1\n",
    "    Min=-1\n",
    "    #create a projection matrix\n",
    "    ProjectionMatrix=np.array([[1,-1,0],[2,1,0],[0,0,0]])\n",
    "    #create some noise and add to data  \n",
    "    Noise=Noise_std*np.random.normal(loc=0.0, scale=1, size=(Nsamples,3))\n",
    "    #create some uniform data and  projection onto plane \n",
    "    TrueData=np.dot(ProjectionMatrix,np.random.uniform(low=Min, high=Max, size=(Nsamples,3)).T ).T\n",
    "    TrueData=TrueData-TrueData.mean(axis=0)\n",
    "    #add noise \n",
    "    CorruptedData =TrueData+Noise\n",
    "    CorruptedData =CorruptedData -CorruptedData .mean( axis=0) \n",
    "    return TrueData,CorruptedData"
   ]
  },
  {
   "cell_type": "markdown",
   "metadata": {
    "id": "MrjEqfGDWCme"
   },
   "source": [
    "This function will plot the 3D data."
   ]
  },
  {
   "cell_type": "code",
   "execution_count": 6,
   "metadata": {
    "id": "d_wsM3MTWCmf"
   },
   "outputs": [],
   "source": [
    "def PlotData3D(Data,Data1,Name1=\"Data 1\",Name2=\"Data 2\",BasisVectors=None):\n",
    "    fig = plt.figure(figsize=(15,15))\n",
    "    ax = fig.add_subplot(111, projection='3d')\n",
    "    ax.plot(Data[:,0], Data[:,1], Data[:,2], 'x', markersize=10, color='b', alpha=1,label=Name1)\n",
    "    ax.plot(Data1[:,0], Data1[:,1], Data1[:,2], 'o', markersize=10, color='r', alpha=0.5,label=Name2)\n",
    "    \n",
    "    if type(BasisVectors)==torch.Tensor:\n",
    "        for q in torch.transpose(BasisVectors,0,1):\n",
    "            print(q)\n",
    "            a = Arrow3D([0,q[0].numpy()], [0, q[1].numpy()], [0, q[2].numpy()], mutation_scale=20, lw=3, arrowstyle=\"-|>\", color=\"k\")\n",
    "            ax.add_artist(a)\n",
    "  \n",
    "    ax.set_zlim([-2,2])\n",
    "    ax.set_xlim([-2,2])\n",
    "    ax.set_ylim([-2,2])\n",
    "    ax.legend(shadow=True)"
   ]
  },
  {
   "cell_type": "markdown",
   "metadata": {
    "id": "AJ4R15_sWCmf"
   },
   "source": [
    "This function will create the arrows in 3D to represent vectors "
   ]
  },
  {
   "cell_type": "code",
   "execution_count": 7,
   "metadata": {
    "id": "pfcW7YtUWCmf"
   },
   "outputs": [],
   "source": [
    "class Arrow3D(FancyArrowPatch):\n",
    "    #code by CT Zhu\n",
    "    #https://stackoverflow.com/users/2487184/ct-zhu\n",
    "    def __init__(self, xs, ys, zs, *args, **kwargs):\n",
    "        FancyArrowPatch.__init__(self, (0,0), (0,0), *args, **kwargs)\n",
    "        self._verts3d = xs, ys, zs\n",
    "\n",
    "    def draw(self, renderer):\n",
    "        xs3d, ys3d, zs3d = self._verts3d\n",
    "        xs, ys, zs = proj3d.proj_transform(xs3d, ys3d, zs3d, renderer.M)\n",
    "        self.set_positions((xs[0],ys[0]),(xs[1],ys[1]))\n",
    "        FancyArrowPatch.draw(self, renderer)"
   ]
  },
  {
   "cell_type": "markdown",
   "metadata": {
    "id": "STZs6ZoCWCmg"
   },
   "source": [
    "<h2 id=\"#PCA \"> PCA 2D</h2>\n",
    "In this section, we create a dataset object that uses principal component analysis (PCA). We find the projection of the data on the eigenvectors of the covariance matrix $\\mathbf{Q}$, as shown below. We zero center the data."
   ]
  },
  {
   "cell_type": "markdown",
   "metadata": {
    "id": "aT5t-A9hWCmg"
   },
   "source": [
    "We generate 2D  data that is correlated."
   ]
  },
  {
   "cell_type": "code",
   "execution_count": 16,
   "metadata": {
    "id": "jbez62qxWCmh",
    "outputId": "08009d48-f12d-448d-c612-06181cc16e0b"
   },
   "outputs": [
    {
     "data": {
      "image/png": "[encoded data removed]",
      "text/plain": [
       "<Figure size 432x288 with 1 Axes>"
      ]
     },
     "metadata": {
      "needs_background": "light"
     },
     "output_type": "display_data"
    }
   ],
   "source": [
    "samples=200\n",
    "u=torch.tensor([[1.0,1.0],[0.10,-0.10]])/(2)**(0.5)\n",
    "X=torch.mm(4*torch.randn(samples,2),u)+2\n",
    "plt.scatter(X[:, 0].numpy(), X[:, 1].numpy())\n",
    "plt.show()\n"
   ]
  },
  {
   "cell_type": "markdown",
   "metadata": {
    "id": "KR4d0pj5WCmj"
   },
   "source": [
    "From now on we will deal with zero centered data"
   ]
  },
  {
   "cell_type": "markdown",
   "metadata": {
    "id": "3l89vtvRWCmk"
   },
   "source": [
    "$\\mathbf x=\\mathbf x-\\boldsymbol\\mu$"
   ]
  },
  {
   "cell_type": "code",
   "execution_count": 17,
   "metadata": {
    "id": "vFkPhVsyWCml",
    "outputId": "c4dcdd78-ebaf-493b-eabd-fc90973a7c39"
   },
   "outputs": [
    {
     "data": {
      "text/plain": [
       "tensor([[-0.1589, -0.5729],\n",
       "        [-0.6990, -1.5620],\n",
       "        [-6.4257, -6.0003],\n",
       "        [ 0.9131,  0.1151],\n",
       "        [-6.6886, -6.8765],\n",
       "        [-0.7810, -0.6688],\n",
       "        [ 1.6608,  2.5910],\n",
       "        [-0.0531, -0.8099],\n",
       "        [-1.7793, -1.9021],\n",
       "        [-3.4827, -4.0160],\n",
       "        [-7.4510, -7.5821],\n",
       "        [-4.4436, -4.0852],\n",
       "        [ 2.0368,  1.6354],\n",
       "        [-0.6335, -0.3839],\n",
       "        [-3.0841, -3.0229],\n",
       "        [-1.2985, -0.7600],\n",
       "        [ 3.1992,  2.7945],\n",
       "        [ 0.5373,  0.3179],\n",
       "        [-0.1626,  0.0851],\n",
       "        [ 2.6304,  3.2437],\n",
       "        [-1.2171, -1.0866],\n",
       "        [ 2.7348,  2.9923],\n",
       "        [-0.1666,  0.5546],\n",
       "        [ 6.2047,  7.0401],\n",
       "        [ 0.2938,  0.1179],\n",
       "        [-1.4681, -0.6415],\n",
       "        [-1.4560, -1.1292],\n",
       "        [ 3.2695,  3.5966],\n",
       "        [-3.4428, -2.7495],\n",
       "        [-0.7515, -0.6549],\n",
       "        [ 4.6875,  4.3614],\n",
       "        [-0.3975,  0.6190],\n",
       "        [-6.1558, -6.1218],\n",
       "        [-2.7026, -3.5509],\n",
       "        [-0.0178,  0.0869],\n",
       "        [ 4.0972,  4.6929],\n",
       "        [ 2.5768,  2.1057],\n",
       "        [-1.8734, -2.1144],\n",
       "        [-1.0656, -1.2042],\n",
       "        [-0.7508, -0.6266],\n",
       "        [-1.2283, -1.0366],\n",
       "        [-5.2692, -5.2102],\n",
       "        [-2.4863, -2.8686],\n",
       "        [ 5.2716,  5.7393],\n",
       "        [-4.7598, -4.7431],\n",
       "        [ 2.0062,  2.7405],\n",
       "        [ 6.7390,  7.1329],\n",
       "        [-2.4043, -2.8244],\n",
       "        [-2.7417, -3.2772],\n",
       "        [-1.0515, -1.9834],\n",
       "        [ 1.6725,  1.8662],\n",
       "        [-1.5736, -1.9776],\n",
       "        [ 1.5537,  1.9226],\n",
       "        [-1.4283, -1.0798],\n",
       "        [ 0.2001,  0.5984],\n",
       "        [ 3.6410,  3.4273],\n",
       "        [ 1.1594,  1.0967],\n",
       "        [ 4.6279,  4.8448],\n",
       "        [ 5.0053,  4.6416],\n",
       "        [ 0.0973, -0.2819],\n",
       "        [-2.7665, -2.6439],\n",
       "        [ 1.1728,  1.4425],\n",
       "        [ 3.4203,  3.6791],\n",
       "        [ 1.9366,  3.0662],\n",
       "        [ 0.8742,  1.0342],\n",
       "        [-3.7888, -2.9576],\n",
       "        [ 1.6123,  1.5220],\n",
       "        [ 7.8823,  7.4536],\n",
       "        [ 1.5819,  2.0937],\n",
       "        [-1.9485, -1.3272],\n",
       "        [-2.7753, -2.1215],\n",
       "        [ 3.8534,  4.0717],\n",
       "        [-4.5931, -5.3230],\n",
       "        [-1.5176, -1.8382],\n",
       "        [ 1.9293,  2.1064],\n",
       "        [ 0.7630,  1.2413],\n",
       "        [-0.4880, -0.6359],\n",
       "        [ 3.2167,  3.6388],\n",
       "        [-1.8849, -2.7535],\n",
       "        [-2.1440, -1.1636],\n",
       "        [ 0.3791,  0.1520],\n",
       "        [ 3.0635,  3.2536],\n",
       "        [ 2.2802,  1.7601],\n",
       "        [-2.7514, -2.0372],\n",
       "        [-3.2793, -3.0468],\n",
       "        [ 2.7309,  3.5846],\n",
       "        [ 4.0979,  5.0877],\n",
       "        [-1.6995, -1.1129],\n",
       "        [-2.2265, -2.2046],\n",
       "        [ 0.1820,  0.1433],\n",
       "        [ 1.6383,  1.0618],\n",
       "        [-2.3612, -2.5220],\n",
       "        [ 3.1609,  3.7753],\n",
       "        [-1.2975, -1.0193],\n",
       "        [ 1.9654,  2.3407],\n",
       "        [ 1.3320,  1.3931],\n",
       "        [ 2.6113,  3.1948],\n",
       "        [-1.7052, -1.0728],\n",
       "        [ 4.5578,  4.7101],\n",
       "        [ 2.3556,  2.2419],\n",
       "        [-0.7392,  0.1442],\n",
       "        [-3.9138, -4.5357],\n",
       "        [ 3.3656,  3.3149],\n",
       "        [ 1.1281,  0.9028],\n",
       "        [ 1.3061,  1.1455],\n",
       "        [-0.9582, -0.9869],\n",
       "        [ 0.0706,  0.5918],\n",
       "        [ 1.5442,  2.0845],\n",
       "        [ 1.5129,  1.9307],\n",
       "        [-3.6501, -3.3671],\n",
       "        [ 4.9347,  4.3432],\n",
       "        [ 0.6032,  0.8789],\n",
       "        [ 0.9852,  1.6835],\n",
       "        [-0.8959, -0.6026],\n",
       "        [ 1.1022, -0.0171],\n",
       "        [ 3.4824,  2.3431],\n",
       "        [ 2.3244,  1.0588],\n",
       "        [ 0.1536,  0.4129],\n",
       "        [-1.7342, -1.2137],\n",
       "        [ 1.7491,  0.6527],\n",
       "        [ 1.7758,  1.9500],\n",
       "        [ 2.6313,  3.3007],\n",
       "        [-5.0312, -5.3579],\n",
       "        [-3.3734, -4.7997],\n",
       "        [-1.9016, -1.9368],\n",
       "        [-3.5455, -4.0767],\n",
       "        [-0.7839, -1.6007],\n",
       "        [-2.6667, -2.1497],\n",
       "        [-1.7614, -2.6088],\n",
       "        [ 4.6288,  5.2670],\n",
       "        [-1.2696, -1.8704],\n",
       "        [ 0.6407,  0.3679],\n",
       "        [-1.8842, -2.0343],\n",
       "        [-0.4904, -1.2181],\n",
       "        [ 3.2422,  2.6628],\n",
       "        [ 1.0221,  2.0784],\n",
       "        [-4.1775, -4.1256],\n",
       "        [ 3.3009,  3.8448],\n",
       "        [ 1.7248,  1.6638],\n",
       "        [ 2.1896,  3.0600],\n",
       "        [ 5.3177,  5.5270],\n",
       "        [-4.4756, -4.5424],\n",
       "        [-1.8269, -1.8589],\n",
       "        [-2.1928, -1.6188],\n",
       "        [-3.6202, -3.9015],\n",
       "        [ 4.3858,  4.6713],\n",
       "        [ 0.2087, -0.3593],\n",
       "        [ 2.7863,  2.2443],\n",
       "        [ 5.0523,  4.7722],\n",
       "        [ 5.2150,  4.3845],\n",
       "        [ 0.5472,  0.3046],\n",
       "        [-2.2308, -1.9655],\n",
       "        [ 4.6877,  4.8297],\n",
       "        [-0.4921, -1.1125],\n",
       "        [ 2.5614,  2.8441],\n",
       "        [ 2.2618,  1.6144],\n",
       "        [-0.3588, -0.9855],\n",
       "        [-1.7805, -2.4493],\n",
       "        [ 1.2524,  2.0669],\n",
       "        [ 4.7636,  4.0858],\n",
       "        [-3.1608, -2.2197],\n",
       "        [-1.0951, -1.3445],\n",
       "        [-0.2135,  0.4104],\n",
       "        [-0.5271, -1.0462],\n",
       "        [-5.7145, -6.2379],\n",
       "        [ 0.4965,  1.0205],\n",
       "        [-0.3428, -0.5563],\n",
       "        [-0.1055, -1.0958],\n",
       "        [ 2.3967,  1.2589],\n",
       "        [ 0.8617,  0.7117],\n",
       "        [ 1.9972,  2.3112],\n",
       "        [-5.0909, -5.0003],\n",
       "        [-5.4475, -5.1462],\n",
       "        [-1.1002, -0.9278],\n",
       "        [ 0.2633, -0.5023],\n",
       "        [ 0.4378,  0.8525],\n",
       "        [-0.7321, -0.4994],\n",
       "        [-6.3138, -6.1041],\n",
       "        [-4.1677, -4.4311],\n",
       "        [-3.1422, -2.7797],\n",
       "        [ 2.6497,  2.4573],\n",
       "        [ 1.3524,  1.0721],\n",
       "        [-1.5505, -0.6351],\n",
       "        [ 2.1542,  2.0807],\n",
       "        [-1.7399, -2.4883],\n",
       "        [-3.7807, -4.2786],\n",
       "        [-1.1976, -1.3361],\n",
       "        [-1.1679, -1.2050],\n",
       "        [-0.8721, -0.7171],\n",
       "        [-2.4794, -2.6753],\n",
       "        [-1.9952, -1.7608],\n",
       "        [-1.8174, -2.3592],\n",
       "        [ 1.4456,  0.3118],\n",
       "        [-1.7617, -2.2474],\n",
       "        [ 0.9965,  0.7025],\n",
       "        [ 0.8830,  0.8941],\n",
       "        [ 3.0642,  3.2514],\n",
       "        [ 4.6927,  4.6273],\n",
       "        [-2.6195, -2.6032],\n",
       "        [-0.8961, -1.3212]])"
      ]
     },
     "execution_count": 17,
     "metadata": {},
     "output_type": "execute_result"
    }
   ],
   "source": [
    "X_old=X\n",
    "X=X-X.mean(dim=0)\n",
    "X"
   ]
  },
  {
   "cell_type": "markdown",
   "metadata": {
    "id": "dqXl3MePWCmm"
   },
   "source": [
    "We plot the date before we subtract and after we subtract the mean.\n"
   ]
  },
  {
   "cell_type": "code",
   "execution_count": 18,
   "metadata": {
    "id": "3evWoNkaWCmm",
    "outputId": "40d8e8a4-4a1a-4411-c42d-e86a7101a3c9"
   },
   "outputs": [
    {
     "data": {
      "image/png": "[encoded data removed]",
      "text/plain": [
       "<Figure size 432x288 with 1 Axes>"
      ]
     },
     "metadata": {
      "needs_background": "light"
     },
     "output_type": "display_data"
    }
   ],
   "source": [
    "plot_data(X_old,X,label_X=\"original data\",label_Xhat=\"zero-mean\")"
   ]
  },
  {
   "cell_type": "markdown",
   "metadata": {
    "id": "cS5zua9dWCmm"
   },
   "source": [
    "$\\frac{1}{N}   \\mathbf{X}^T \\mathbf{X} = \\mathbf{Q} \\mathbf{\\Lambda} \\mathbf{Q}^T$\n",
    "\n"
   ]
  },
  {
   "cell_type": "markdown",
   "metadata": {
    "id": "MX1a6H-vWCmm"
   },
   "source": [
    "We calculate the empirical covariance matrix."
   ]
  },
  {
   "cell_type": "markdown",
   "metadata": {
    "id": "9RsT_skMWCmn"
   },
   "source": [
    "$\\frac{1}{N}   \\mathbf{X}^T \\mathbf{X}$"
   ]
  },
  {
   "cell_type": "code",
   "execution_count": 19,
   "metadata": {
    "id": "YaZVZf6FWCmn",
    "outputId": "669cf23f-7d28-4bbe-fe6c-c88ac19a4d2e"
   },
   "outputs": [
    {
     "data": {
      "text/plain": [
       "tensor([[8.2680, 8.3453],\n",
       "        [8.3453, 8.7049]])"
      ]
     },
     "execution_count": 19,
     "metadata": {},
     "output_type": "execute_result"
    }
   ],
   "source": [
    "Cov=torch.mm(torch.t(X),X)/X.shape[0]\n",
    "Cov"
   ]
  },
  {
   "cell_type": "markdown",
   "metadata": {
    "id": "NrvIcfZvWCmn"
   },
   "source": [
    "We obtain the eigenvectors\n",
    "$\\frac{1}{N}   \\mathbf{X}^T \\mathbf{X} = \\mathbf{Q} \\mathbf{\\Lambda} \\mathbf{Q}^T$"
   ]
  },
  {
   "cell_type": "code",
   "execution_count": 20,
   "metadata": {
    "id": "VGzS_71MWCmn",
    "outputId": "59fa229c-e723-46ee-a6a8-6f30e8a5b4eb"
   },
   "outputs": [
    {
     "name": "stderr",
     "output_type": "stream",
     "text": [
      "C:\\ProgramData\\Anaconda3\\lib\\site-packages\\ipykernel_launcher.py:1: UserWarning: torch.eig is deprecated in favor of torch.linalg.eig and will be removed in a future PyTorch release.\n",
      "torch.linalg.eig returns complex tensors of dtype cfloat or cdouble rather than real tensors mimicking complex tensors.\n",
      "L, _ = torch.eig(A)\n",
      "should be replaced with\n",
      "L_complex = torch.linalg.eigvals(A)\n",
      "and\n",
      "L, V = torch.eig(A, eigenvectors=True)\n",
      "should be replaced with\n",
      "L_complex, V_complex = torch.linalg.eig(A) (Triggered internally at  ..\\aten\\src\\ATen\\native\\BatchLinearAlgebra.cpp:2897.)\n",
      "  \"\"\"Entry point for launching an IPython kernel.\n"
     ]
    },
    {
     "data": {
      "text/plain": [
       "tensor([[-0.7163, -0.6978],\n",
       "        [ 0.6978, -0.7163]])"
      ]
     },
     "execution_count": 20,
     "metadata": {},
     "output_type": "execute_result"
    }
   ],
   "source": [
    "eigenvalues,eigenvectors=torch.eig(Cov,True)\n",
    "eigenvectors"
   ]
  },
  {
   "cell_type": "markdown",
   "metadata": {
    "id": "-Yv4Z5xAWCmn"
   },
   "source": [
    "we have the eigenvalues:"
   ]
  },
  {
   "cell_type": "code",
   "execution_count": 21,
   "metadata": {
    "id": "_dzf7XgxWCmo",
    "outputId": "c14f2b4c-6af6-4cc0-dbb0-f1fb02480a9e"
   },
   "outputs": [
    {
     "data": {
      "text/plain": [
       "tensor([[ 0.1383,  0.0000],\n",
       "        [16.8346,  0.0000]])"
      ]
     },
     "execution_count": 21,
     "metadata": {},
     "output_type": "execute_result"
    }
   ],
   "source": [
    "eigenvalues"
   ]
  },
  {
   "cell_type": "markdown",
   "metadata": {
    "id": "y2sAsctQWCmo"
   },
   "source": [
    "we can plot the eigenvectors"
   ]
  },
  {
   "cell_type": "code",
   "execution_count": 22,
   "metadata": {
    "id": "zwrBeIm-WCmo",
    "outputId": "52f81cfd-950b-4924-d053-7c7b386701ce"
   },
   "outputs": [
    {
     "data": {
      "image/png": "[encoded data removed]",
      "text/plain": [
       "<Figure size 432x288 with 1 Axes>"
      ]
     },
     "metadata": {
      "needs_background": "light"
     },
     "output_type": "display_data"
    }
   ],
   "source": [
    "row_vec=torch.t(eigenvectors).numpy()\n",
    "plt.scatter(X[:, 0].numpy(), X[:, 1].numpy(),label=\"data\")\n",
    "plt.quiver([0],[0],row_vec[:,0],row_vec[:,1],label=\"Eigen vectors\")\n",
    "plt.xlabel(\"x_{1}\")\n",
    "plt.ylabel(\"x_{2}\")\n",
    "plt.legend()\n",
    "plt.show()\n"
   ]
  },
  {
   "cell_type": "markdown",
   "metadata": {
    "id": "r3P2n9gAWCmo"
   },
   "source": [
    "We find the projection  the eigenvectors:\n",
    "$Z= \\mathbf{X} \\mathbf{Q} $"
   ]
  },
  {
   "cell_type": "code",
   "execution_count": 24,
   "metadata": {
    "id": "DVQm7KYQWCmo",
    "outputId": "4528fdbe-96f5-4388-b7e7-682c01d4470d"
   },
   "outputs": [
    {
     "data": {
      "image/png": "[encoded data removed]",
      "text/plain": [
       "<Figure size 432x288 with 1 Axes>"
      ]
     },
     "metadata": {
      "needs_background": "light"
     },
     "output_type": "display_data"
    },
    {
     "data": {
      "text/plain": [
       "tensor([[ 1.3826e-01, -9.7752e-07],\n",
       "        [-9.7752e-07,  1.6835e+01]])"
      ]
     },
     "execution_count": 24,
     "metadata": {},
     "output_type": "execute_result"
    }
   ],
   "source": [
    "Z=torch.mm(X,eigenvectors)\n",
    "plot_data(X,Z,eigenvectors,label_X=\"data\",label_Xhat=\"Z\",lable_vec=\"q\")\n",
    "torch.mm(torch.transpose(Z,0,1),Z)/Z.size()[0]"
   ]
  },
  {
   "cell_type": "markdown",
   "metadata": {
    "id": "FJcL35flWCmp"
   },
   "source": [
    "\n",
    "We can also find the $\\mathbf{\\hat{X}}$, as we are using all the vectors, we have a perfect reconstruction. \n",
    "$\\mathbf{\\hat{X}}=\\mathbf{Q} \\mathbf{Z} $"
   ]
  },
  {
   "cell_type": "code",
   "execution_count": 25,
   "metadata": {
    "id": "p95PVdI9WCmp",
    "outputId": "825bf83a-ace8-4b61-ca98-3d158e2f83cc"
   },
   "outputs": [
    {
     "data": {
      "image/png": "[encoded data removed]",
      "text/plain": [
       "<Figure size 432x288 with 1 Axes>"
      ]
     },
     "metadata": {
      "needs_background": "light"
     },
     "output_type": "display_data"
    }
   ],
   "source": [
    "Xhat=torch.mm(Z,torch.transpose(eigenvectors,0,1))\n",
    "plot_data(X,Xhat,eigenvectors,label_X=\"X\",label_Xhat=\"Xhat\",lable_vec=\"parameter vector\")"
   ]
  },
  {
   "cell_type": "markdown",
   "metadata": {
    "id": "wMfv8022WCmq"
   },
   "source": [
    "We can also find the max eigenvalue  "
   ]
  },
  {
   "cell_type": "code",
   "execution_count": 26,
   "metadata": {
    "id": "bJzPSBV8WCmq",
    "outputId": "fc141af3-5623-49b3-d6a9-4c210b939e54"
   },
   "outputs": [
    {
     "data": {
      "text/plain": [
       "tensor(1)"
      ]
     },
     "execution_count": 26,
     "metadata": {},
     "output_type": "execute_result"
    }
   ],
   "source": [
    "max_eigenvalue=torch.argmax(eigenvalues[:,0])\n",
    "max_eigenvalue"
   ]
  },
  {
   "cell_type": "markdown",
   "metadata": {
    "id": "aAFFK6p8WCmq"
   },
   "source": [
    "we find the corresponding max eigenvector"
   ]
  },
  {
   "cell_type": "code",
   "execution_count": 27,
   "metadata": {
    "id": "rdhMLoeUWCmr",
    "outputId": "e193a3db-3aeb-4976-c0b8-efeef5fb923b"
   },
   "outputs": [
    {
     "data": {
      "text/plain": [
       "tensor([-0.6978, -0.7163])"
      ]
     },
     "execution_count": 27,
     "metadata": {},
     "output_type": "execute_result"
    }
   ],
   "source": [
    "max_eigenvector=eigenvectors[:,max_eigenvalue]\n",
    "max_eigenvector"
   ]
  },
  {
   "cell_type": "markdown",
   "metadata": {
    "id": "xPYiqECzWCmr"
   },
   "source": [
    "To keep the tensors the same shape we simply copy the eigenvector to a new tensor. This behaves like setting the other eigenvector to zero."
   ]
  },
  {
   "cell_type": "code",
   "execution_count": null,
   "metadata": {
    "id": "2-NxeHM4WCmr"
   },
   "outputs": [],
   "source": [
    "new_Q=torch.zeros(2,2)\n",
    "new_Q[:,0]=max_eigenvector"
   ]
  },
  {
   "cell_type": "markdown",
   "metadata": {
    "id": "V16FfklIWCmr"
   },
   "source": [
    "We find Xhat, this time as it’s an approximation all the points fall on the line that is a scaler multiple of are eigenvector.   "
   ]
  },
  {
   "cell_type": "code",
   "execution_count": null,
   "metadata": {
    "id": "1tGcNUoWWCmr",
    "outputId": "709ab5f3-eeee-47d4-d79a-7a131fc4323b"
   },
   "outputs": [],
   "source": [
    "Z=torch.mm(X,new_Q)\n",
    "Xhat=torch.mm(Z,torch.transpose(new_Q,0,1))\n",
    "plot_data(X,Xhat,eigenvectors,label_X=\"data\",label_Xhat=\"Xhat\",lable_vec=\"parameter vector\")"
   ]
  },
  {
   "cell_type": "markdown",
   "metadata": {
    "id": "SqLQ9YPpWCms"
   },
   "source": [
    "<h2 id=\"#A2D<\">Autoencoders 2D </h2> "
   ]
  },
  {
   "cell_type": "markdown",
   "metadata": {
    "id": "gOQcSmMaWCms"
   },
   "source": [
    "We do the same for an autoencoder, but instead of only selecting one eigenvector we set the code length to be one."
   ]
  },
  {
   "cell_type": "code",
   "execution_count": null,
   "metadata": {
    "id": "6SlTcTSlWCms"
   },
   "outputs": [],
   "source": [
    "model=AutoEncoder(2,1)"
   ]
  },
  {
   "cell_type": "markdown",
   "metadata": {
    "id": "e7D1bmf7WCms"
   },
   "source": [
    "Just like a neural network we train the encoder using gradient descent.   "
   ]
  },
  {
   "cell_type": "code",
   "execution_count": null,
   "metadata": {
    "id": "q6Sarb0XWCmt"
   },
   "outputs": [],
   "source": [
    "learning_rate = 0.01\n",
    "criterion = nn.MSELoss()\n",
    "optimizer = torch.optim.SGD(model.parameters(), lr=learning_rate)\n",
    "cost_list_training=train_model(model,X,optimizer,n_epochs=4)"
   ]
  },
  {
   "cell_type": "markdown",
   "metadata": {
    "id": "m70EpOMQWCmt"
   },
   "source": [
    "We can make a prediction for <code>Xhat</code>  and plot it.  "
   ]
  },
  {
   "cell_type": "code",
   "execution_count": null,
   "metadata": {
    "id": "s44Sw__8WCmt"
   },
   "outputs": [],
   "source": [
    "Xhat=model(X)"
   ]
  },
  {
   "cell_type": "code",
   "execution_count": null,
   "metadata": {
    "id": "zCOIHxIOWCmt",
    "outputId": "d26df737-60e4-46e3-b3b7-6b0f0e837414"
   },
   "outputs": [],
   "source": [
    "plot_data(X,model(X).detach(),eigenvectors,label_X=\"data\",label_Xhat=\"Xhat\",lable_vec=\"parameter vector\")"
   ]
  },
  {
   "cell_type": "markdown",
   "metadata": {
    "id": "pjsgRjhDWCmu"
   },
   "source": [
    "We see that the output is similar to  PCA. The data spans a line."
   ]
  },
  {
   "cell_type": "markdown",
   "metadata": {
    "id": "XlWWadfbWCmu"
   },
   "source": [
    "<h2 id=\"#PCA3D<\"> PCA 3D</h2>"
   ]
  },
  {
   "cell_type": "markdown",
   "metadata": {
    "id": "zNiDoyauWCmu"
   },
   "source": [
    " Let’s do the same for three dimensional points  "
   ]
  },
  {
   "cell_type": "markdown",
   "metadata": {
    "id": "hKT-S54PWCmu"
   },
   "source": [
    "$\\mathbf{\\hat{X}}=\\mathbf{X} \\mathbf{Q} \\mathbf{\\Lambda}^{-1/2} $"
   ]
  },
  {
   "cell_type": "markdown",
   "metadata": {
    "id": "7CM-Ad3PWCmv"
   },
   "source": [
    "Let’s do the same for three dimensional points. We will generate  some data from a plane and add noise. We will convert it to a PyTorch tensor and subtract the mean. "
   ]
  },
  {
   "cell_type": "code",
   "execution_count": null,
   "metadata": {
    "id": "3f_taipoWCmv"
   },
   "outputs": [],
   "source": [
    "TrueData,CorruptedData=GenerateData(ProjectionMatrix=[[1,-1,0],[2,1,0],[0,0,0]],Noise_std=0.1,Nsamples=1000)\n",
    "TrueData\n",
    "X=torch.from_numpy(CorruptedData).float()\n",
    "X=X-X.mean(dim=0)"
   ]
  },
  {
   "cell_type": "markdown",
   "metadata": {
    "id": "Vee352euWCmv"
   },
   "source": [
    "We can plot out the original points in blue and overlay the points with added noise in red."
   ]
  },
  {
   "cell_type": "code",
   "execution_count": null,
   "metadata": {
    "id": "x9noZdm0WCmw",
    "outputId": "a853a133-3a6e-4808-e251-0ae051e11cf8"
   },
   "outputs": [],
   "source": [
    "PlotData3D(TrueData,CorruptedData,Name1=\"Orignal Data \",Name2=\"Corrupted Data \",BasisVectors=torch.eye(3))\n",
    "X"
   ]
  },
  {
   "cell_type": "markdown",
   "metadata": {
    "id": "ifA-oezHWCmw"
   },
   "source": [
    "We can determine covariance matrix and it  eigenvalues and eigenvectors"
   ]
  },
  {
   "cell_type": "code",
   "execution_count": null,
   "metadata": {
    "id": "_r8ozqlZWCmw"
   },
   "outputs": [],
   "source": [
    "Cov=torch.mm(torch.t(X),X)/X.shape[0]\n",
    "eigenvalues,eigenvectors=torch.eig(Cov,True)"
   ]
  },
  {
   "cell_type": "markdown",
   "metadata": {
    "id": "6m0GpOS3WCmw"
   },
   "source": [
    "We can verify orthogonality of the basis, more specifically orthonormal basis."
   ]
  },
  {
   "cell_type": "code",
   "execution_count": null,
   "metadata": {
    "id": "Qj-rjq6_WCmw",
    "outputId": "9368fd2a-519d-4f5d-fa12-c6f144e40f85"
   },
   "outputs": [],
   "source": [
    "torch.mm(torch.transpose(eigenvectors,0,1),eigenvectors)"
   ]
  },
  {
   "cell_type": "markdown",
   "metadata": {
    "id": "anG5-FURWCmw"
   },
   "source": [
    "We find the index of the first two largest eigenvectors:"
   ]
  },
  {
   "cell_type": "code",
   "execution_count": null,
   "metadata": {
    "id": "bwWunZafWCmw",
    "outputId": "4bf6578c-bd88-41e7-c41b-420120549dc8"
   },
   "outputs": [],
   "source": [
    "indexs=set([0,1,2] )\n",
    "min_eigenvalues=torch.argmin(eigenvalues[:,0]).item()\n",
    "indexs.remove(min_eigenvalues)\n",
    "indexs=list(indexs)\n",
    "eigenvectors"
   ]
  },
  {
   "cell_type": "markdown",
   "metadata": {
    "id": "F1ZZLJEuWCmw"
   },
   "source": [
    "To keep the tensors the same shape we simply copy the top eigenvector to a new tensor. This behaves like setting the other eigenvector to zero."
   ]
  },
  {
   "cell_type": "code",
   "execution_count": null,
   "metadata": {
    "id": "ccsy2qeiWCmx"
   },
   "outputs": [],
   "source": [
    "new_Q=torch.zeros(3,3)\n",
    "for i,index in enumerate(indexs):\n",
    "    new_Q[:,i]=eigenvectors[:,index]"
   ]
  },
  {
   "cell_type": "markdown",
   "metadata": {
    "id": "dTl0g6sGWCmx"
   },
   "source": [
    "We find the code and the prediction  $\\mathbf{\\hat{X}}$."
   ]
  },
  {
   "cell_type": "code",
   "execution_count": null,
   "metadata": {
    "id": "2n19umT3WCmx"
   },
   "outputs": [],
   "source": [
    "Z=torch.mm(X,new_Q)\n",
    "Z\n",
    "Xhat=torch.mm(Z,torch.transpose(new_Q,0,1))"
   ]
  },
  {
   "cell_type": "markdown",
   "metadata": {
    "id": "E8tVeRyFWCmx"
   },
   "source": [
    "We compare the output compared to the data points with noise. We see the  output points fall in the line."
   ]
  },
  {
   "cell_type": "code",
   "execution_count": null,
   "metadata": {
    "id": "KxNE9ZHnWCmx",
    "outputId": "bb50935d-e58b-44db-e756-4f7e94e77c68"
   },
   "outputs": [],
   "source": [
    "PlotData3D(Xhat.numpy(),CorruptedData,Name1=\"Xhat\",Name2=\"Data with Noise\",BasisVectors=new_Q)"
   ]
  },
  {
   "cell_type": "markdown",
   "metadata": {
    "id": "qShuw0V8WCmx"
   },
   "source": [
    "<h2 id=\"A3D<\"> Autoencoder in 3D</h2> "
   ]
  },
  {
   "cell_type": "markdown",
   "metadata": {
    "id": "MFC7H3uHWCmy"
   },
   "source": [
    "We can perform a similar process with an Autoencoder but the vectors are not the same. We can verify this by showing that the basis are not orthogonal."
   ]
  },
  {
   "cell_type": "code",
   "execution_count": null,
   "metadata": {
    "id": "dw0MLoAgWCmy",
    "outputId": "7a75b698-8064-414b-ed10-5286d83de385"
   },
   "outputs": [],
   "source": [
    "model=AutoEncoder(3,3)\n",
    "learning_rate = 0.01\n",
    "criterion = nn.MSELoss()\n",
    "optimizer = torch.optim.SGD(model.parameters(), lr=learning_rate)\n",
    "cost_list_training=train_model(model,X,optimizer,n_epochs=4)\n",
    "Xhat=model(X)\n",
    "torch.mm(torch.transpose(model.state_dict()['encoder.weight'],0,1), model.state_dict()['encoder.weight'])\n"
   ]
  },
  {
   "cell_type": "markdown",
   "metadata": {
    "id": "GcfwER8hWCmy"
   },
   "source": [
    "We can use the autoencoder for dimensionality reduction as well, we can reduce the code to two. "
   ]
  },
  {
   "cell_type": "code",
   "execution_count": null,
   "metadata": {
    "id": "z_TM_qZNWCmy",
    "outputId": "1005f2d7-88ae-47e2-b4fb-10094d09d340"
   },
   "outputs": [],
   "source": [
    "model=AutoEncoder(3,2)\n",
    "learning_rate = 0.01\n",
    "criterion = nn.MSELoss()\n",
    "optimizer = torch.optim.SGD(model.parameters(), lr=learning_rate)\n",
    "cost_list_training=train_model(model,X,optimizer,n_epochs=4)\n",
    "model.state_dict()"
   ]
  },
  {
   "cell_type": "code",
   "execution_count": null,
   "metadata": {
    "id": "PV1NzqdyWCmy",
    "outputId": "6c46f8a9-64c0-4134-aeef-17c32dd3b144"
   },
   "outputs": [],
   "source": [
    "model.encoder(X)"
   ]
  },
  {
   "cell_type": "markdown",
   "metadata": {
    "id": "N7rRNDvtWCmy"
   },
   "source": [
    "We can see the output spans the same plane.   "
   ]
  },
  {
   "cell_type": "code",
   "execution_count": null,
   "metadata": {
    "id": "5MndPHsGWCmy",
    "outputId": "7f0f0e8c-1e53-481b-e0d8-0676d593c655"
   },
   "outputs": [],
   "source": [
    "Xhat=model(X)\n",
    "PlotData3D(Xhat.detach().numpy(),CorruptedData,Name1=\"Xhat\",Name2=\"Data with Noise\",BasisVectors=model.state_dict()['decoder.weight'].detach())"
   ]
  },
  {
   "cell_type": "code",
   "execution_count": null,
   "metadata": {},
   "outputs": [],
   "source": []
  }
 ],
 "metadata": {
  "colab": {
   "name": "8_generative_nets1.ipynb",
   "provenance": []
  },
  "kernelspec": {
   "display_name": "Python 3",
   "language": "python",
   "name": "python3"
  },
  "language_info": {
   "codemirror_mode": {
    "name": "ipython",
    "version": 3
   },
   "file_extension": ".py",
   "mimetype": "text/x-python",
   "name": "python",
   "nbconvert_exporter": "python",
   "pygments_lexer": "ipython3",
   "version": "3.7.4"
  }
 },
 "nbformat": 4,
 "nbformat_minor": 1
}
