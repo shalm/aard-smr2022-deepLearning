{
  "nbformat": 4,
  "nbformat_minor": 0,
  "metadata": {
    "colab": {
      "name": "12_DNN_foundations.ipynb",
      "provenance": []
    },
    "kernelspec": {
      "name": "python3",
      "display_name": "Python 3"
    },
    "language_info": {
      "name": "python"
    },
    "accelerator": "GPU",
    "gpuClass": "standard"
  },
  "cells": [
    {
      "cell_type": "code",
      "source": [
        "import torch\n",
        "from torch import tensor\n",
        "import numpy as np"
      ],
      "metadata": {
        "id": "qq6gc4ZA-8ca"
      },
      "execution_count": 42,
      "outputs": []
    },
    {
      "cell_type": "code",
      "source": [
        "def matmul1(a,b):\n",
        "  ar,ac = a.shape\n",
        "  br,bc = b.shape\n",
        "  assert ac == br\n",
        "  c = torch.zeros(ar,bc)\n",
        "  for i in range(ar):\n",
        "    for k in range(bc):\n",
        "      for j in range(ac): c[i,k] += a[i,j]*b[j,k] \n",
        "  return c\n"
      ],
      "metadata": {
        "id": "amW_ickr_AH_"
      },
      "execution_count": 24,
      "outputs": []
    },
    {
      "cell_type": "code",
      "source": [
        "f = torch.randn(3,2)\n",
        "fr, fc = f.shape\n",
        "print(fr,fc)\n",
        "f"
      ],
      "metadata": {
        "colab": {
          "base_uri": "https://localhost:8080/"
        },
        "id": "E4Voy9dgFoB3",
        "outputId": "ab29f00e-c7f7-4073-f9e7-da878c92f153"
      },
      "execution_count": 16,
      "outputs": [
        {
          "output_type": "stream",
          "name": "stdout",
          "text": [
            "3 2\n"
          ]
        },
        {
          "output_type": "execute_result",
          "data": {
            "text/plain": [
              "tensor([[-0.0085,  0.7291],\n",
              "        [ 0.1331,  0.8640],\n",
              "        [-1.0157, -0.8887]])"
            ]
          },
          "metadata": {},
          "execution_count": 16
        }
      ]
    },
    {
      "cell_type": "code",
      "source": [
        "f2 = torch.randn(2,1)\n",
        "f2"
      ],
      "metadata": {
        "colab": {
          "base_uri": "https://localhost:8080/"
        },
        "id": "snh7cit0FuNK",
        "outputId": "0cb0f929-9809-4a10-8759-4e24bc974bf1"
      },
      "execution_count": 21,
      "outputs": [
        {
          "output_type": "execute_result",
          "data": {
            "text/plain": [
              "tensor([[ 0.4679],\n",
              "        [-0.2049]])"
            ]
          },
          "metadata": {},
          "execution_count": 21
        }
      ]
    },
    {
      "cell_type": "code",
      "source": [
        "matmul(f,f2)"
      ],
      "metadata": {
        "colab": {
          "base_uri": "https://localhost:8080/"
        },
        "id": "Uw34LjhgFvqq",
        "outputId": "c1cf543c-96aa-451c-b8e9-6a0c92b4ff3f"
      },
      "execution_count": 25,
      "outputs": [
        {
          "output_type": "execute_result",
          "data": {
            "text/plain": [
              "tensor([[-0.1534],\n",
              "        [-0.1148],\n",
              "        [-0.2931]])"
            ]
          },
          "metadata": {},
          "execution_count": 25
        }
      ]
    },
    {
      "cell_type": "code",
      "source": [
        "f@f2"
      ],
      "metadata": {
        "colab": {
          "base_uri": "https://localhost:8080/"
        },
        "id": "PCmkhdt9HVI4",
        "outputId": "c3885342-791f-4e5c-b98a-2846baf0eb3a"
      },
      "execution_count": 26,
      "outputs": [
        {
          "output_type": "execute_result",
          "data": {
            "text/plain": [
              "tensor([[-0.1534],\n",
              "        [-0.1148],\n",
              "        [-0.2931]])"
            ]
          },
          "metadata": {},
          "execution_count": 26
        }
      ]
    },
    {
      "cell_type": "code",
      "source": [
        "m1 = torch.randn(5, 784).cuda()\n",
        "m2 = torch.randn(784, 10).cuda()"
      ],
      "metadata": {
        "id": "x4Icg-NVKPsx"
      },
      "execution_count": 13,
      "outputs": []
    },
    {
      "cell_type": "code",
      "source": [
        "%time matmul(m1,m2)"
      ],
      "metadata": {
        "colab": {
          "base_uri": "https://localhost:8080/"
        },
        "id": "uaRS2GBMKilq",
        "outputId": "26828fcb-524e-4734-8508-0b23d67ece30"
      },
      "execution_count": 28,
      "outputs": [
        {
          "output_type": "stream",
          "name": "stdout",
          "text": [
            "CPU times: user 729 ms, sys: 0 ns, total: 729 ms\n",
            "Wall time: 737 ms\n"
          ]
        },
        {
          "output_type": "execute_result",
          "data": {
            "text/plain": [
              "tensor([[ 20.4556,  16.3589,  17.3697,  10.7952,  -5.0137,  15.8283,  -0.6433,   1.0742,  42.7838, -13.4226],\n",
              "        [ 17.1288,  25.3569,   6.5654, -27.3038, -17.2624,  21.4736,   7.7040,  21.0932,  -7.9843, -58.4536],\n",
              "        [ 18.7078,  -0.7761,  -2.4135,  17.6966, -34.7733, -10.1749,  -9.4549, -14.4562,   0.1597,  45.6993],\n",
              "        [-45.6807,  30.2635, -36.4334,  -4.7199,  19.3923, -21.0885,   5.3866, -38.4594,  11.5221,  13.2045],\n",
              "        [-17.2932,  -6.3994,  20.5691,  18.7861,  -8.2135,  -1.9999, -30.6286, -26.2472, -34.4538,   2.9838]])"
            ]
          },
          "metadata": {},
          "execution_count": 28
        }
      ]
    },
    {
      "cell_type": "code",
      "source": [
        "%time m4 = m1@m2.cuda()"
      ],
      "metadata": {
        "colab": {
          "base_uri": "https://localhost:8080/"
        },
        "id": "AVEKu3xTKowo",
        "outputId": "0b545047-4547-492f-a8cd-0a1554c8514c"
      },
      "execution_count": 14,
      "outputs": [
        {
          "output_type": "stream",
          "name": "stdout",
          "text": [
            "CPU times: user 867 µs, sys: 0 ns, total: 867 µs\n",
            "Wall time: 643 µs\n"
          ]
        }
      ]
    },
    {
      "cell_type": "code",
      "source": [
        "def matmul2(a,b):\n",
        "  ar,ac = a.shape\n",
        "  br,bc = b.shape\n",
        "  assert ac == br\n",
        "  c = torch.zeros(ar,bc)\n",
        "  for i in range(ar):\n",
        "    for k in range(bc):\n",
        "      c[i,k] = (a[i,:]*b[:,k]).sum() \n",
        "  return c"
      ],
      "metadata": {
        "id": "dycffTIHKzpn"
      },
      "execution_count": 33,
      "outputs": []
    },
    {
      "cell_type": "code",
      "source": [
        "%time matmul2(m1,m2)"
      ],
      "metadata": {
        "colab": {
          "base_uri": "https://localhost:8080/"
        },
        "id": "JBtX5o4oLWOi",
        "outputId": "a90f2fac-bfc7-42ea-a95e-21bbce921c5e"
      },
      "execution_count": 34,
      "outputs": [
        {
          "output_type": "stream",
          "name": "stdout",
          "text": [
            "CPU times: user 4.11 ms, sys: 0 ns, total: 4.11 ms\n",
            "Wall time: 7.97 ms\n"
          ]
        },
        {
          "output_type": "execute_result",
          "data": {
            "text/plain": [
              "tensor([[ 20.4556,  16.3589,  17.3697,  10.7952,  -5.0137,  15.8283,  -0.6433,   1.0742,  42.7838, -13.4226],\n",
              "        [ 17.1288,  25.3569,   6.5654, -27.3038, -17.2624,  21.4736,   7.7040,  21.0932,  -7.9843, -58.4536],\n",
              "        [ 18.7078,  -0.7761,  -2.4135,  17.6966, -34.7733, -10.1749,  -9.4549, -14.4562,   0.1597,  45.6993],\n",
              "        [-45.6807,  30.2635, -36.4335,  -4.7199,  19.3923, -21.0885,   5.3866, -38.4594,  11.5221,  13.2045],\n",
              "        [-17.2932,  -6.3994,  20.5691,  18.7861,  -8.2134,  -1.9999, -30.6286, -26.2472, -34.4538,   2.9838]])"
            ]
          },
          "metadata": {},
          "execution_count": 34
        }
      ]
    },
    {
      "cell_type": "code",
      "source": [
        "m3-5"
      ],
      "metadata": {
        "colab": {
          "base_uri": "https://localhost:8080/"
        },
        "id": "UT3ELNDrLaiy",
        "outputId": "ee14f829-f4ac-4b12-9b26-7f0f51141016"
      },
      "execution_count": 39,
      "outputs": [
        {
          "output_type": "execute_result",
          "data": {
            "text/plain": [
              "tensor([[ 15.4556,  11.3589,  12.3697,   5.7952, -10.0137,  10.8283,  -5.6433,  -3.9258,  37.7838, -18.4226],\n",
              "        [ 12.1289,  20.3569,   1.5654, -32.3037, -22.2624,  16.4735,   2.7040,  16.0932, -12.9843, -63.4536],\n",
              "        [ 13.7078,  -5.7761,  -7.4135,  12.6966, -39.7733, -15.1749, -14.4549, -19.4562,  -4.8403,  40.6993],\n",
              "        [-50.6807,  25.2635, -41.4335,  -9.7199,  14.3923, -26.0885,   0.3866, -43.4595,   6.5221,   8.2045],\n",
              "        [-22.2932, -11.3994,  15.5691,  13.7861, -13.2134,  -6.9999, -35.6286, -31.2472, -39.4538,  -2.0162]])"
            ]
          },
          "metadata": {},
          "execution_count": 39
        }
      ]
    },
    {
      "cell_type": "code",
      "source": [
        "f3 = tensor([[10.,20.,30.], []])"
      ],
      "metadata": {
        "colab": {
          "base_uri": "https://localhost:8080/",
          "height": 169
        },
        "id": "XrsoUCRfL-So",
        "outputId": "ca42e74d-54be-482b-9979-21cbe8c77d49"
      },
      "execution_count": 60,
      "outputs": [
        {
          "output_type": "error",
          "ename": "ValueError",
          "evalue": "ignored",
          "traceback": [
            "\u001b[0;31m---------------------------------------------------------------------------\u001b[0m",
            "\u001b[0;31mValueError\u001b[0m                                Traceback (most recent call last)",
            "\u001b[0;32m<ipython-input-60-4b6717c031f4>\u001b[0m in \u001b[0;36m<module>\u001b[0;34m()\u001b[0m\n\u001b[0;32m----> 1\u001b[0;31m \u001b[0mf3\u001b[0m \u001b[0;34m=\u001b[0m \u001b[0mtensor\u001b[0m\u001b[0;34m(\u001b[0m\u001b[0;34m[\u001b[0m\u001b[0;34m[\u001b[0m\u001b[0;36m10.\u001b[0m\u001b[0;34m,\u001b[0m\u001b[0;36m20.\u001b[0m\u001b[0;34m,\u001b[0m\u001b[0;36m30.\u001b[0m\u001b[0;34m]\u001b[0m\u001b[0;34m,\u001b[0m \u001b[0;34m[\u001b[0m\u001b[0;34m]\u001b[0m\u001b[0;34m]\u001b[0m\u001b[0;34m)\u001b[0m\u001b[0;34m\u001b[0m\u001b[0;34m\u001b[0m\u001b[0m\n\u001b[0m",
            "\u001b[0;31mValueError\u001b[0m: expected sequence of length 3 at dim 1 (got 0)"
          ]
        }
      ]
    },
    {
      "cell_type": "code",
      "source": [
        "f3.shape"
      ],
      "metadata": {
        "colab": {
          "base_uri": "https://localhost:8080/"
        },
        "id": "4nGKnyyvMoeM",
        "outputId": "2167ea5c-3341-446f-8258-fba359d32d9e"
      },
      "execution_count": 53,
      "outputs": [
        {
          "output_type": "execute_result",
          "data": {
            "text/plain": [
              "torch.Size([2, 3])"
            ]
          },
          "metadata": {},
          "execution_count": 53
        }
      ]
    },
    {
      "cell_type": "code",
      "source": [
        "f3.squeeze(-1)\n",
        "f3.shape"
      ],
      "metadata": {
        "colab": {
          "base_uri": "https://localhost:8080/"
        },
        "id": "aHtZ-hFiMp31",
        "outputId": "f7cfc862-6647-44ae-aa49-f215a7690b55"
      },
      "execution_count": 59,
      "outputs": [
        {
          "output_type": "execute_result",
          "data": {
            "text/plain": [
              "torch.Size([2, 3])"
            ]
          },
          "metadata": {},
          "execution_count": 59
        }
      ]
    },
    {
      "cell_type": "code",
      "source": [
        "f3"
      ],
      "metadata": {
        "colab": {
          "base_uri": "https://localhost:8080/"
        },
        "id": "Do9CVcrkM137",
        "outputId": "2454a7c5-4051-47f1-bf94-a6fc5cecafc0"
      },
      "execution_count": 55,
      "outputs": [
        {
          "output_type": "execute_result",
          "data": {
            "text/plain": [
              "tensor([[10., 20., 30.],\n",
              "        [ 1.,  2.,  3.]])"
            ]
          },
          "metadata": {},
          "execution_count": 55
        }
      ]
    },
    {
      "cell_type": "code",
      "source": [
        "def matmul3(a,b):\n",
        "  ar,ac = a.shape\n",
        "  br,bc = b.shape\n",
        "  assert ac == br\n",
        "  c = torch.zeros(ar,bc)\n",
        "  for i in range(ar):\n",
        "      c[i] = (a[i].unsqueeze(-1)*b).sum() \n",
        "  return c"
      ],
      "metadata": {
        "id": "MsnpsvSpM9FT"
      },
      "execution_count": 61,
      "outputs": []
    },
    {
      "cell_type": "code",
      "source": [
        "%time matmul3(m1,m2)"
      ],
      "metadata": {
        "colab": {
          "base_uri": "https://localhost:8080/"
        },
        "id": "J4XcIh4COirm",
        "outputId": "f98cebe7-31d1-49de-c168-1f0c0a8ae018"
      },
      "execution_count": 62,
      "outputs": [
        {
          "output_type": "stream",
          "name": "stdout",
          "text": [
            "CPU times: user 2.28 ms, sys: 0 ns, total: 2.28 ms\n",
            "Wall time: 5.4 ms\n"
          ]
        },
        {
          "output_type": "execute_result",
          "data": {
            "text/plain": [
              "tensor([[105.5860, 105.5860, 105.5860, 105.5860, 105.5860, 105.5860, 105.5860, 105.5860, 105.5860, 105.5860],\n",
              "        [-11.6822, -11.6822, -11.6822, -11.6822, -11.6822, -11.6822, -11.6822, -11.6822, -11.6822, -11.6822],\n",
              "        [ 10.2146,  10.2146,  10.2146,  10.2146,  10.2146,  10.2146,  10.2146,  10.2146,  10.2146,  10.2146],\n",
              "        [-66.6131, -66.6131, -66.6131, -66.6131, -66.6131, -66.6131, -66.6131, -66.6131, -66.6131, -66.6131],\n",
              "        [-82.8966, -82.8966, -82.8966, -82.8966, -82.8966, -82.8966, -82.8966, -82.8966, -82.8966, -82.8966]])"
            ]
          },
          "metadata": {},
          "execution_count": 62
        }
      ]
    },
    {
      "cell_type": "code",
      "source": [
        "def lin(x,w,b): return x@w + b"
      ],
      "metadata": {
        "id": "NYXynv8FOzOq"
      },
      "execution_count": 31,
      "outputs": []
    },
    {
      "cell_type": "code",
      "source": [
        "x = torch.randn(100,100)"
      ],
      "metadata": {
        "id": "JDOI_5oFQWin"
      },
      "execution_count": 78,
      "outputs": []
    },
    {
      "cell_type": "code",
      "source": [
        "x"
      ],
      "metadata": {
        "colab": {
          "base_uri": "https://localhost:8080/"
        },
        "id": "W262rUKwQmZg",
        "outputId": "f951a2de-e7f1-4f6d-f256-94e9e47e215c"
      },
      "execution_count": 70,
      "outputs": [
        {
          "output_type": "execute_result",
          "data": {
            "text/plain": [
              "tensor([[-1.6253,  0.7517, -0.5054,  ..., -0.1512,  0.1547,  0.4189],\n",
              "        [-1.9801,  1.8460, -0.1609,  ...,  0.2059, -0.2049, -0.4009],\n",
              "        [ 1.7347,  0.3049,  0.6474,  ..., -0.9877,  1.8186, -0.1373],\n",
              "        ...,\n",
              "        [-1.9551, -0.3037, -0.0805,  ...,  0.0955,  1.0041,  1.2910],\n",
              "        [-1.6071, -2.0280,  0.7420,  ...,  0.9374, -0.5417, -0.2643],\n",
              "        [-2.4074, -0.5886,  0.5691,  ..., -0.2283, -0.2786, -1.5140]])"
            ]
          },
          "metadata": {},
          "execution_count": 70
        }
      ]
    },
    {
      "cell_type": "code",
      "source": [
        "w1 = torch.randn(100,50)\n",
        "b1 = torch.randn(50)\n",
        "w2 = torch.randn(50,1)\n",
        "b2 = torch.randn(1)"
      ],
      "metadata": {
        "id": "Uf8RcwwZQnCR"
      },
      "execution_count": 28,
      "outputs": []
    },
    {
      "cell_type": "code",
      "source": [
        "lin1 = lin(x,w1,b1)"
      ],
      "metadata": {
        "id": "wgJdTonrQprz"
      },
      "execution_count": 35,
      "outputs": []
    },
    {
      "cell_type": "code",
      "source": [
        ""
      ],
      "metadata": {
        "id": "Qr2huvSHRYAr"
      },
      "execution_count": 26,
      "outputs": []
    },
    {
      "cell_type": "code",
      "source": [
        "lin1.shape"
      ],
      "metadata": {
        "colab": {
          "base_uri": "https://localhost:8080/"
        },
        "id": "SoSteJ4FRP6H",
        "outputId": "ccf9306e-5df4-491c-b595-0e53a65d128f"
      },
      "execution_count": 36,
      "outputs": [
        {
          "output_type": "execute_result",
          "data": {
            "text/plain": [
              "torch.Size([200, 50])"
            ]
          },
          "metadata": {},
          "execution_count": 36
        }
      ]
    },
    {
      "cell_type": "code",
      "source": [
        "x.mean(), x.std()"
      ],
      "metadata": {
        "colab": {
          "base_uri": "https://localhost:8080/"
        },
        "id": "xLNorinHRp9W",
        "outputId": "fbbf09df-bcd3-4fae-c4f7-b310c0832b61"
      },
      "execution_count": 79,
      "outputs": [
        {
          "output_type": "execute_result",
          "data": {
            "text/plain": [
              "(tensor(-0.0054), tensor(1.0036))"
            ]
          },
          "metadata": {},
          "execution_count": 79
        }
      ]
    },
    {
      "cell_type": "code",
      "source": [
        "x = torch.randn(100,100)\n",
        "print(x.mean(), x.std())\n",
        "for i in range(50): x = x@(torch.randn(100,100)*0.1)"
      ],
      "metadata": {
        "colab": {
          "base_uri": "https://localhost:8080/"
        },
        "id": "ATqzHKUoSkPb",
        "outputId": "0fdb0d6e-cfa1-4c89-8e73-dbcef580bde8"
      },
      "execution_count": 93,
      "outputs": [
        {
          "output_type": "stream",
          "name": "stdout",
          "text": [
            "tensor(0.0306) tensor(0.9988)\n"
          ]
        }
      ]
    },
    {
      "cell_type": "code",
      "source": [
        "x"
      ],
      "metadata": {
        "colab": {
          "base_uri": "https://localhost:8080/"
        },
        "id": "MruoU1ZVTFTg",
        "outputId": "cedd8c69-69d2-4250-98c0-93d56dfc70f0"
      },
      "execution_count": 94,
      "outputs": [
        {
          "output_type": "execute_result",
          "data": {
            "text/plain": [
              "tensor([[-0.5825,  1.5587,  0.3413,  ...,  1.7212,  0.3532, -0.5376],\n",
              "        [ 0.3641, -0.9382,  0.3659,  ..., -0.8807, -0.8085, -0.0111],\n",
              "        [ 0.2866, -2.2930, -0.7623,  ..., -0.2191,  0.5159, -1.5525],\n",
              "        ...,\n",
              "        [-0.0979,  0.9209,  0.0121,  ...,  0.0768,  0.4441,  0.5471],\n",
              "        [ 0.4082, -0.5461, -0.2776,  ..., -0.9830,  0.6760, -0.0637],\n",
              "        [ 0.0653,  0.1561,  0.2008,  ...,  0.6258,  0.2659, -0.2576]])"
            ]
          },
          "metadata": {},
          "execution_count": 94
        }
      ]
    },
    {
      "cell_type": "code",
      "source": [
        ""
      ],
      "metadata": {
        "id": "9nD8629KTGMS"
      },
      "execution_count": null,
      "outputs": []
    }
  ]
}