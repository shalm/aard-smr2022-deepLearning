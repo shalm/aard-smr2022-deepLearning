{
 "cells": [
  {
   "cell_type": "markdown",
   "id": "e8cf7425",
   "metadata": {},
   "source": [
    "## Fundamentals of Python - Part 4 (Solutions)\n",
    "In this lecture, you will learn how to use Selenium to scrape data from websites\n",
    "\n",
    "## References\n",
    "\n",
    "https://selenium-python.readthedocs.io/\n",
    "\n",
    "### 1. Downloading, Importing Selenium and Creating a Driver\n",
    "To download Selenium, run the following command <code>pip install selenium</code>. Once installed, we will be able to import the package."
   ]
  },
  {
   "cell_type": "code",
   "execution_count": 1,
   "id": "40671164",
   "metadata": {},
   "outputs": [],
   "source": [
    "# Subpackages from selenium that are needed\n",
    "from selenium import webdriver\n",
    "from selenium.webdriver.chrome.service import Service\n",
    "from webdriver_manager.chrome import ChromeDriverManager"
   ]
  },
  {
   "cell_type": "markdown",
   "id": "0c8a4921",
   "metadata": {},
   "source": [
    "Now, we will create a <b>Web Driver</b>. A <b>Web Driver</b> allows you to open web applications in a testing environment. This has many uses like testing whether your web application works as intended. We will be focusing on scraping data from websites."
   ]
  },
  {
   "cell_type": "code",
   "execution_count": 2,
   "id": "0318ef63",
   "metadata": {},
   "outputs": [
    {
     "name": "stdout",
     "output_type": "stream",
     "text": [
      "\n"
     ]
    },
    {
     "name": "stderr",
     "output_type": "stream",
     "text": [
      "[WDM] - ====== WebDriver manager ======\n",
      "[WDM] - Current google-chrome version is 103.0.5060\n",
      "[WDM] - Get LATEST chromedriver version for 103.0.5060 google-chrome\n",
      "[WDM] - There is no [win32] chromedriver for browser 103.0.5060 in cache\n",
      "[WDM] - About to download new driver from https://chromedriver.storage.googleapis.com/103.0.5060.53/chromedriver_win32.zip\n",
      "[WDM] - Driver has been saved in cache [C:\\Users\\mikes\\.wdm\\drivers\\chromedriver\\win32\\103.0.5060.53]\n"
     ]
    }
   ],
   "source": [
    "# Creating a Web Driver that runs Google Chrome. This also supports firefox and safari.\n",
    "\n",
    "# Once you run this program, a google chrome tab should pop up\n",
    "driver = webdriver.Chrome(service=Service(ChromeDriverManager().install()))"
   ]
  },
  {
   "cell_type": "markdown",
   "id": "fd44fa65",
   "metadata": {},
   "source": [
    "### 2. Using and Closing the Web Driver\n",
    "Once the Web Driver has been created, we can start opening up the websites that we want to scrape data from. For this lecture, we will be scraping all the tweets from Elon Musk"
   ]
  },
  {
   "cell_type": "code",
   "execution_count": 3,
   "id": "f9f03f1a",
   "metadata": {},
   "outputs": [],
   "source": [
    "# .get() allows you to open a tab in the Web Driver\n",
    "driver.get('https://twitter.com/elonmusk')"
   ]
  },
  {
   "cell_type": "code",
   "execution_count": 4,
   "id": "a64ca348",
   "metadata": {},
   "outputs": [],
   "source": [
    "# Closes the tab\n",
    "driver.close()"
   ]
  },
  {
   "cell_type": "markdown",
   "id": "2ae5aabf",
   "metadata": {},
   "source": [
    "### 3. Scraping Data from Websites\n",
    "Now that we know the basics about opening and closing tabs in selenium, let's start scraping data! First, we need to import <b>By</b>. This will give us 6 options on navigating an html tree (in other words, scraping data)"
   ]
  },
  {
   "cell_type": "code",
   "execution_count": 5,
   "id": "02cff310",
   "metadata": {},
   "outputs": [],
   "source": [
    "# Importing By from Selenium\n",
    "from selenium.webdriver.common.by import By"
   ]
  },
  {
   "cell_type": "markdown",
   "id": "fd30e5d6",
   "metadata": {},
   "source": [
    "We then have to use one of these two methods to find data: <b>find_element</b> and <b>find_elements</b>. <b>find_element</b> finds the first instance of the tag you want to find and returns a WebElement object. On the other hand, <b>find_elements</b> finds the all the instances of the tag you want to find and returns a WebElement list. Both are instance methods that you call from a WebDriver or WebElement object. Let's first try to find all the span tags in this website"
   ]
  },
  {
   "cell_type": "code",
   "execution_count": 6,
   "id": "0bb211fb",
   "metadata": {},
   "outputs": [
    {
     "name": "stdout",
     "output_type": "stream",
     "text": [
      "\n"
     ]
    },
    {
     "name": "stderr",
     "output_type": "stream",
     "text": [
      "[WDM] - ====== WebDriver manager ======\n",
      "[WDM] - Current google-chrome version is 103.0.5060\n",
      "[WDM] - Get LATEST chromedriver version for 103.0.5060 google-chrome\n",
      "[WDM] - Driver [C:\\Users\\mikes\\.wdm\\drivers\\chromedriver\\win32\\103.0.5060.53\\chromedriver.exe] found in cache\n"
     ]
    },
    {
     "name": "stdout",
     "output_type": "stream",
     "text": [
      "Don’t miss what’s happening\n",
      "People on Twitter are the first to know.\n",
      "Log in\n",
      "Log in\n"
     ]
    },
    {
     "ename": "WebDriverException",
     "evalue": "Message: unknown error: cannot determine loading status\nfrom unknown error: unexpected command response\n  (Session info: chrome=103.0.5060.53)\nStacktrace:\nBacktrace:\n\tOrdinal0 [0x00256463+2188387]\n\tOrdinal0 [0x001EE461+1762401]\n\tOrdinal0 [0x00103D78+802168]\n\tOrdinal0 [0x000F7210+750096]\n\tOrdinal0 [0x000F675A+747354]\n\tOrdinal0 [0x000F5D3F+744767]\n\tOrdinal0 [0x000F4C28+740392]\n\tOrdinal0 [0x000F5228+741928]\n\tOrdinal0 [0x000FF153+782675]\n\tOrdinal0 [0x00109FBB+827323]\n\tOrdinal0 [0x0010D310+840464]\n\tOrdinal0 [0x000F54F6+742646]\n\tOrdinal0 [0x00109BF3+826355]\n\tOrdinal0 [0x0015CB47+1166151]\n\tOrdinal0 [0x0014C5F6+1099254]\n\tOrdinal0 [0x00126BE0+945120]\n\tOrdinal0 [0x00127AD6+948950]\n\tGetHandleVerifier [0x004F71F2+2712546]\n\tGetHandleVerifier [0x004E886D+2652765]\n\tGetHandleVerifier [0x002E002A+520730]\n\tGetHandleVerifier [0x002DEE06+516086]\n\tOrdinal0 [0x001F468B+1787531]\n\tOrdinal0 [0x001F8E88+1805960]\n\tOrdinal0 [0x001F8F75+1806197]\n\tOrdinal0 [0x00201DF1+1842673]\n\tBaseThreadInitThunk [0x76786739+25]\n\tRtlGetFullPathName_UEx [0x77988FEF+1215]\n\tRtlGetFullPathName_UEx [0x77988FBD+1165]\n\t(No symbol) [0x00000000]\n",
     "output_type": "error",
     "traceback": [
      "\u001b[1;31m---------------------------------------------------------------------------\u001b[0m",
      "\u001b[1;31mWebDriverException\u001b[0m                        Traceback (most recent call last)",
      "Input \u001b[1;32mIn [6]\u001b[0m, in \u001b[0;36m<cell line: 10>\u001b[1;34m()\u001b[0m\n\u001b[0;32m      9\u001b[0m \u001b[38;5;66;03m# To get all the values from the spanTags, we use the .text feature\u001b[39;00m\n\u001b[0;32m     10\u001b[0m \u001b[38;5;28;01mfor\u001b[39;00m spanTag \u001b[38;5;129;01min\u001b[39;00m spanTags:\n\u001b[1;32m---> 11\u001b[0m     \u001b[38;5;28mprint\u001b[39m(\u001b[43mspanTag\u001b[49m\u001b[38;5;241;43m.\u001b[39;49m\u001b[43mtext\u001b[49m)\n",
      "File \u001b[1;32mC:\\ProgramData\\Anaconda3\\lib\\site-packages\\selenium\\webdriver\\remote\\webelement.py:84\u001b[0m, in \u001b[0;36mWebElement.text\u001b[1;34m(self)\u001b[0m\n\u001b[0;32m     81\u001b[0m \u001b[38;5;129m@property\u001b[39m\n\u001b[0;32m     82\u001b[0m \u001b[38;5;28;01mdef\u001b[39;00m \u001b[38;5;21mtext\u001b[39m(\u001b[38;5;28mself\u001b[39m) \u001b[38;5;241m-\u001b[39m\u001b[38;5;241m>\u001b[39m \u001b[38;5;28mstr\u001b[39m:\n\u001b[0;32m     83\u001b[0m     \u001b[38;5;124;03m\"\"\"The text of the element.\"\"\"\u001b[39;00m\n\u001b[1;32m---> 84\u001b[0m     \u001b[38;5;28;01mreturn\u001b[39;00m \u001b[38;5;28;43mself\u001b[39;49m\u001b[38;5;241;43m.\u001b[39;49m\u001b[43m_execute\u001b[49m\u001b[43m(\u001b[49m\u001b[43mCommand\u001b[49m\u001b[38;5;241;43m.\u001b[39;49m\u001b[43mGET_ELEMENT_TEXT\u001b[49m\u001b[43m)\u001b[49m[\u001b[38;5;124m'\u001b[39m\u001b[38;5;124mvalue\u001b[39m\u001b[38;5;124m'\u001b[39m]\n",
      "File \u001b[1;32mC:\\ProgramData\\Anaconda3\\lib\\site-packages\\selenium\\webdriver\\remote\\webelement.py:396\u001b[0m, in \u001b[0;36mWebElement._execute\u001b[1;34m(self, command, params)\u001b[0m\n\u001b[0;32m    394\u001b[0m     params \u001b[38;5;241m=\u001b[39m {}\n\u001b[0;32m    395\u001b[0m params[\u001b[38;5;124m'\u001b[39m\u001b[38;5;124mid\u001b[39m\u001b[38;5;124m'\u001b[39m] \u001b[38;5;241m=\u001b[39m \u001b[38;5;28mself\u001b[39m\u001b[38;5;241m.\u001b[39m_id\n\u001b[1;32m--> 396\u001b[0m \u001b[38;5;28;01mreturn\u001b[39;00m \u001b[38;5;28;43mself\u001b[39;49m\u001b[38;5;241;43m.\u001b[39;49m\u001b[43m_parent\u001b[49m\u001b[38;5;241;43m.\u001b[39;49m\u001b[43mexecute\u001b[49m\u001b[43m(\u001b[49m\u001b[43mcommand\u001b[49m\u001b[43m,\u001b[49m\u001b[43m \u001b[49m\u001b[43mparams\u001b[49m\u001b[43m)\u001b[49m\n",
      "File \u001b[1;32mC:\\ProgramData\\Anaconda3\\lib\\site-packages\\selenium\\webdriver\\remote\\webdriver.py:435\u001b[0m, in \u001b[0;36mWebDriver.execute\u001b[1;34m(self, driver_command, params)\u001b[0m\n\u001b[0;32m    433\u001b[0m response \u001b[38;5;241m=\u001b[39m \u001b[38;5;28mself\u001b[39m\u001b[38;5;241m.\u001b[39mcommand_executor\u001b[38;5;241m.\u001b[39mexecute(driver_command, params)\n\u001b[0;32m    434\u001b[0m \u001b[38;5;28;01mif\u001b[39;00m response:\n\u001b[1;32m--> 435\u001b[0m     \u001b[38;5;28;43mself\u001b[39;49m\u001b[38;5;241;43m.\u001b[39;49m\u001b[43merror_handler\u001b[49m\u001b[38;5;241;43m.\u001b[39;49m\u001b[43mcheck_response\u001b[49m\u001b[43m(\u001b[49m\u001b[43mresponse\u001b[49m\u001b[43m)\u001b[49m\n\u001b[0;32m    436\u001b[0m     response[\u001b[38;5;124m'\u001b[39m\u001b[38;5;124mvalue\u001b[39m\u001b[38;5;124m'\u001b[39m] \u001b[38;5;241m=\u001b[39m \u001b[38;5;28mself\u001b[39m\u001b[38;5;241m.\u001b[39m_unwrap_value(\n\u001b[0;32m    437\u001b[0m         response\u001b[38;5;241m.\u001b[39mget(\u001b[38;5;124m'\u001b[39m\u001b[38;5;124mvalue\u001b[39m\u001b[38;5;124m'\u001b[39m, \u001b[38;5;28;01mNone\u001b[39;00m))\n\u001b[0;32m    438\u001b[0m     \u001b[38;5;28;01mreturn\u001b[39;00m response\n",
      "File \u001b[1;32mC:\\ProgramData\\Anaconda3\\lib\\site-packages\\selenium\\webdriver\\remote\\errorhandler.py:247\u001b[0m, in \u001b[0;36mErrorHandler.check_response\u001b[1;34m(self, response)\u001b[0m\n\u001b[0;32m    245\u001b[0m         alert_text \u001b[38;5;241m=\u001b[39m value[\u001b[38;5;124m'\u001b[39m\u001b[38;5;124malert\u001b[39m\u001b[38;5;124m'\u001b[39m]\u001b[38;5;241m.\u001b[39mget(\u001b[38;5;124m'\u001b[39m\u001b[38;5;124mtext\u001b[39m\u001b[38;5;124m'\u001b[39m)\n\u001b[0;32m    246\u001b[0m     \u001b[38;5;28;01mraise\u001b[39;00m exception_class(message, screen, stacktrace, alert_text)  \u001b[38;5;66;03m# type: ignore[call-arg]  # mypy is not smart enough here\u001b[39;00m\n\u001b[1;32m--> 247\u001b[0m \u001b[38;5;28;01mraise\u001b[39;00m exception_class(message, screen, stacktrace)\n",
      "\u001b[1;31mWebDriverException\u001b[0m: Message: unknown error: cannot determine loading status\nfrom unknown error: unexpected command response\n  (Session info: chrome=103.0.5060.53)\nStacktrace:\nBacktrace:\n\tOrdinal0 [0x00256463+2188387]\n\tOrdinal0 [0x001EE461+1762401]\n\tOrdinal0 [0x00103D78+802168]\n\tOrdinal0 [0x000F7210+750096]\n\tOrdinal0 [0x000F675A+747354]\n\tOrdinal0 [0x000F5D3F+744767]\n\tOrdinal0 [0x000F4C28+740392]\n\tOrdinal0 [0x000F5228+741928]\n\tOrdinal0 [0x000FF153+782675]\n\tOrdinal0 [0x00109FBB+827323]\n\tOrdinal0 [0x0010D310+840464]\n\tOrdinal0 [0x000F54F6+742646]\n\tOrdinal0 [0x00109BF3+826355]\n\tOrdinal0 [0x0015CB47+1166151]\n\tOrdinal0 [0x0014C5F6+1099254]\n\tOrdinal0 [0x00126BE0+945120]\n\tOrdinal0 [0x00127AD6+948950]\n\tGetHandleVerifier [0x004F71F2+2712546]\n\tGetHandleVerifier [0x004E886D+2652765]\n\tGetHandleVerifier [0x002E002A+520730]\n\tGetHandleVerifier [0x002DEE06+516086]\n\tOrdinal0 [0x001F468B+1787531]\n\tOrdinal0 [0x001F8E88+1805960]\n\tOrdinal0 [0x001F8F75+1806197]\n\tOrdinal0 [0x00201DF1+1842673]\n\tBaseThreadInitThunk [0x76786739+25]\n\tRtlGetFullPathName_UEx [0x77988FEF+1215]\n\tRtlGetFullPathName_UEx [0x77988FBD+1165]\n\t(No symbol) [0x00000000]\n"
     ]
    }
   ],
   "source": [
    "# We need to initialize a new ChromeDriver session everytime we close\n",
    "driver = webdriver.Chrome(service=Service(ChromeDriverManager().install()))\n",
    "\n",
    "driver.get('https://twitter.com/elonmusk')\n",
    "\n",
    "# To do that, we use the By.TAG_NAME option\n",
    "spanTags = driver.find_elements(by = By.TAG_NAME, value = 'span')\n",
    "\n",
    "# To get all the values from the spanTags, we use the .text feature\n",
    "for spanTag in spanTags:\n",
    "    print(spanTag.text)"
   ]
  },
  {
   "cell_type": "markdown",
   "id": "6332c9b3",
   "metadata": {},
   "source": [
    "Wait but that printed nothing. Let's look at Elon's Twitter. If we go to inspect and hover over the text of one of his tweets, we'll see that there is a span tag there, as shown below. Why didn't that span tag get printed?\n",
    "<img src=\"ElonTweet.png\"\n",
    "     alt=\"Elon Tweet\"\n",
    "     style=\"float: left; margin-right: 10px;\" />"
   ]
  },
  {
   "cell_type": "markdown",
   "id": "a574e091",
   "metadata": {},
   "source": [
    "This is because this content was dynamically loaded. The .get() method waits until the entire page is loaded, however this doesn't include dynamic content which loads after the inital frame of a website is loaded. If you ever open twitter, you may notice the blue circle buffering which is demonstrating the dynamic content loading."
   ]
  },
  {
   "cell_type": "code",
   "execution_count": 20,
   "id": "a3aa9610",
   "metadata": {},
   "outputs": [
    {
     "name": "stderr",
     "output_type": "stream",
     "text": [
      "\n",
      "\n",
      "====== WebDriver manager ======\n",
      "Current google-chrome version is 103.0.5060\n",
      "Get LATEST chromedriver version for 103.0.5060 google-chrome\n",
      "Driver [/Users/roryliao/.wdm/drivers/chromedriver/mac64/103.0.5060.53/chromedriver] found in cache\n"
     ]
    },
    {
     "name": "stdout",
     "output_type": "stream",
     "text": [
      "Don’t miss what’s happening\n",
      "People on Twitter are the first to know.\n",
      "Log in\n",
      "Log in\n",
      "Sign up\n",
      "Sign up\n",
      "\n",
      "\n",
      "\n",
      "\n",
      "Elon Musk\n",
      "Elon Musk\n",
      "Elon Musk\n",
      "\n",
      "\n",
      "Follow\n",
      "Follow\n",
      "Elon Musk\n",
      "Elon Musk\n",
      "\n",
      "@elonmusk\n",
      "Joined June 2009\n",
      "Joined June 2009\n",
      "114\n",
      "114\n",
      "Following\n",
      "Following\n",
      "99.8M\n",
      "99.8M\n",
      "Followers\n",
      "Followers\n",
      "\n",
      "Tweets\n",
      "Tweets & replies\n",
      "Media\n",
      "Likes\n",
      "\n",
      "Pinned Tweet\n",
      "Elon Musk\n",
      "Elon Musk\n",
      "@elonmusk\n",
      "·\n",
      "USA birth rate has been below min sustainable levels for ~50 years\n",
      "55.1K\n",
      "55.1K\n",
      "55.1K\n",
      "55.9K\n",
      "55.9K\n",
      "55.9K\n",
      "309K\n",
      "309K\n",
      "309K\n",
      "Show this thread\n",
      "Elon Musk\n",
      "Elon Musk\n",
      "@elonmusk\n",
      "·\n",
      "36.5K\n",
      "36.5K\n",
      "36.5K\n",
      "76.6K\n",
      "76.6K\n",
      "76.6K\n",
      "728.5K\n",
      "728.5K\n",
      "728.5K\n",
      "Show this thread\n",
      "Elon Musk\n",
      "Elon Musk\n",
      "@elonmusk\n",
      "·\n",
      "AI gets better every day\n",
      "12.2K\n",
      "12.2K\n",
      "12.2K\n",
      "14.7K\n",
      "14.7K\n",
      "14.7K\n",
      "127.8K\n",
      "127.8K\n",
      "127.8K\n",
      "Elon Musk\n",
      "Elon Musk\n",
      "@elonmusk\n",
      "·\n",
      "Some great suggestions in the comments!\n",
      "102.4K\n",
      "102.4K\n",
      "102.4K\n",
      "2,091\n",
      "2,091\n",
      "2,091\n",
      "33.2K\n",
      "33.2K\n",
      "33.2K\n",
      "Show this thread\n",
      "Elon Musk\n",
      "Elon Musk\n",
      "@elonmusk\n",
      "·\n",
      "But sometimes they’re out of stock\n",
      "youtube.com\n",
      "youtube.com\n",
      "Monty Python- Cheese Shop\n",
      "Monty Python- Cheese Shop\n",
      "A funny Monty Python sketch. Enjoy!\n",
      "A funny Monty Python sketch. Enjoy!\n",
      "2,213\n",
      "2,213\n",
      "2,213\n",
      "1,536\n",
      "1,536\n",
      "1,536\n",
      "26K\n",
      "26K\n",
      "26K\n",
      "Show this thread\n",
      "New to Twitter?\n",
      "Sign up now to get your own personalized timeline!\n",
      "Sign up with Apple\n",
      "Sign up with Apple\n",
      "Sign up with phone or email\n",
      "Sign up with phone or email\n",
      "Terms of Service\n",
      "Privacy Policy\n",
      "Cookie Use.\n",
      "You might like\n",
      "NASA\n",
      "NASA\n",
      "@NASA\n",
      "Follow\n",
      "Follow\n",
      "Tesla\n",
      "Tesla\n",
      "@Tesla\n",
      "Follow\n",
      "Follow\n",
      "SpaceX\n",
      "SpaceX\n",
      "@SpaceX\n",
      "Follow\n",
      "Follow\n",
      "Show more\n",
      "What’s happening\n",
      "US national news\n",
      "·\n",
      "LIVE\n",
      "Protests break out across the US after Supreme Court overturns Roe v. Wade\n",
      "The Globe and Mail\n",
      "The Globe and Mail\n",
      "·\n",
      "Earlier today\n",
      "As Russians advance in eastern Ukraine, city of Slovyansk fears the horrors of 2014 will return\n",
      "Telegraph Sport\n",
      "Telegraph Sport\n",
      "·\n",
      "This morning\n",
      "Wimbledon 2022: Andy Murray on his hopes of winning a third title\n",
      "Trending in United States\n",
      "Cardi\n",
      "Rapper Cardi B announces that her new single Hot Sh*t will drop on July 1\n",
      "38.7K Tweets\n",
      "Entertainment · Trending\n",
      "Full House\n",
      "11K Tweets\n",
      "Show more\n",
      "Terms of Service\n",
      "Privacy Policy\n",
      "Cookie Policy\n",
      "Accessibility\n",
      "Ads info\n",
      "More\n",
      "© 2022 Twitter, Inc.\n"
     ]
    }
   ],
   "source": [
    "def enoughTags(driver):\n",
    "    if len(driver.find_elements(by = By.CSS_SELECTOR, value = 'div.css-1dbjc4n')) > 750:\n",
    "        return True\n",
    "    else:\n",
    "        return False\n",
    "\n",
    "# We need to Import This function to Implicitly Wait for an Element\n",
    "from selenium.webdriver.support.ui import WebDriverWait\n",
    "\n",
    "# We need to initialize a new ChromeDriver session everytime we close\n",
    "driver = webdriver.Chrome(service=Service(ChromeDriverManager().install()))\n",
    "\n",
    "driver.get('https://twitter.com/elonmusk')\n",
    "\n",
    "# To solve this, we use something called an implicit wait. \n",
    "# This means that it waits until a specific element to show up before it continues the program\n",
    "# This line of code allows you to wait until the share button is found\n",
    "# CSS_Selector requires the tag name and the class name together\n",
    "WebDriverWait(driver, timeout = 10).until(lambda d : enoughTags(d))\n",
    "\n",
    "# To do that, we use the By.TAG_NAME option\n",
    "spanTags = driver.find_elements(by = By.TAG_NAME, value = 'span')\n",
    "\n",
    "# To get all the values from the spanTags, we use the .text feature\n",
    "for spanTag in spanTags:\n",
    "    try:\n",
    "        print(spanTag.text)\n",
    "    except:\n",
    "        pass\n",
    "    \n",
    "driver.close()"
   ]
  },
  {
   "cell_type": "markdown",
   "id": "bf353d83",
   "metadata": {},
   "source": [
    "### 4. Problems With Selenium\n",
    "Notice with the code above, all the data was not scraped from the website. There are a couple of issues with this. Most likely, all the tweets don't load unless you scroll though them. Since Selenium just opens the tab, there's isn't any activity on the page and thus, you can't scrape all the data. There are many ways to solve this. One is to access the Twitter API which will give you much more access to the data they have. This method usually costs money. Another way is to try another package that specializes in a website. Usually, these packages have access to twitter API and you can use it for free provided you don't use it too much. Lastly, you can try scrolling the page using selenium. There are so many features that Selenium offers that if you think of a solution, selenium has functions that can solve your problem. All depends on your specific needs. If you have any specific data you want to scrape, I would be more than happy to help you!"
   ]
  }
 ],
 "metadata": {
  "kernelspec": {
   "display_name": "Python 3 (ipykernel)",
   "language": "python",
   "name": "python3"
  },
  "language_info": {
   "codemirror_mode": {
    "name": "ipython",
    "version": 3
   },
   "file_extension": ".py",
   "mimetype": "text/x-python",
   "name": "python",
   "nbconvert_exporter": "python",
   "pygments_lexer": "ipython3",
   "version": "3.9.7"
  }
 },
 "nbformat": 4,
 "nbformat_minor": 5
}
